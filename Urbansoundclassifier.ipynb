{
  "nbformat": 4,
  "nbformat_minor": 0,
  "metadata": {
    "colab": {
      "name": "Urbansoundclassifier.ipynb",
      "provenance": [],
      "collapsed_sections": []
    },
    "kernelspec": {
      "name": "python3",
      "display_name": "Python 3"
    },
    "accelerator": "GPU"
  },
  "cells": [
    {
      "cell_type": "code",
      "metadata": {
        "id": "iP-GxO3un0Vq",
        "colab_type": "code",
        "colab": {}
      },
      "source": [
        "#To import the dataset from the website\n",
        "import urllib.request\n",
        "urllib.request.urlretrieve (\"https://zenodo.org/record/1203745/files/UrbanSound8K.tar.gz\",\"a.tar.gz\")\n",
        "import tarfile\n",
        "tar = tarfile.open(\"a.tar.gz\")\n",
        "tar.extractall()\n",
        "tar.close()"
      ],
      "execution_count": 0,
      "outputs": []
    },
    {
      "cell_type": "code",
      "metadata": {
        "id": "ZO8HNP5joYxW",
        "colab_type": "code",
        "colab": {
          "base_uri": "https://localhost:8080/",
          "height": 34
        },
        "outputId": "1f3ae1eb-16ab-42d6-90fd-ab9843dd3f26"
      },
      "source": [
        "import pandas as pd\n",
        "import numpy as np\n",
        "import matplotlib.pyplot as plt\n",
        "import librosa as lib\n",
        "from librosa import display\n",
        "from keras.utils.np_utils import to_categorical\n",
        "import os\n",
        "from tqdm import tqdm"
      ],
      "execution_count": 28,
      "outputs": [
        {
          "output_type": "stream",
          "text": [
            "Using TensorFlow backend.\n"
          ],
          "name": "stderr"
        }
      ]
    },
    {
      "cell_type": "code",
      "metadata": {
        "id": "JlrDyY2FpXpp",
        "colab_type": "code",
        "colab": {
          "base_uri": "https://localhost:8080/",
          "height": 195
        },
        "outputId": "5bc9211c-35b2-4904-c41b-398b0041c0fe"
      },
      "source": [
        "#Loading the dataset to the dataframe\n",
        "audio_df=pd.read_csv(\"UrbanSound8K/metadata/UrbanSound8K.csv\")\n",
        "audio_df.head(5)"
      ],
      "execution_count": 9,
      "outputs": [
        {
          "output_type": "execute_result",
          "data": {
            "text/html": [
              "<div>\n",
              "<style scoped>\n",
              "    .dataframe tbody tr th:only-of-type {\n",
              "        vertical-align: middle;\n",
              "    }\n",
              "\n",
              "    .dataframe tbody tr th {\n",
              "        vertical-align: top;\n",
              "    }\n",
              "\n",
              "    .dataframe thead th {\n",
              "        text-align: right;\n",
              "    }\n",
              "</style>\n",
              "<table border=\"1\" class=\"dataframe\">\n",
              "  <thead>\n",
              "    <tr style=\"text-align: right;\">\n",
              "      <th></th>\n",
              "      <th>slice_file_name</th>\n",
              "      <th>fsID</th>\n",
              "      <th>start</th>\n",
              "      <th>end</th>\n",
              "      <th>salience</th>\n",
              "      <th>fold</th>\n",
              "      <th>classID</th>\n",
              "      <th>class</th>\n",
              "    </tr>\n",
              "  </thead>\n",
              "  <tbody>\n",
              "    <tr>\n",
              "      <th>0</th>\n",
              "      <td>100032-3-0-0.wav</td>\n",
              "      <td>100032</td>\n",
              "      <td>0.0</td>\n",
              "      <td>0.317551</td>\n",
              "      <td>1</td>\n",
              "      <td>5</td>\n",
              "      <td>3</td>\n",
              "      <td>dog_bark</td>\n",
              "    </tr>\n",
              "    <tr>\n",
              "      <th>1</th>\n",
              "      <td>100263-2-0-117.wav</td>\n",
              "      <td>100263</td>\n",
              "      <td>58.5</td>\n",
              "      <td>62.500000</td>\n",
              "      <td>1</td>\n",
              "      <td>5</td>\n",
              "      <td>2</td>\n",
              "      <td>children_playing</td>\n",
              "    </tr>\n",
              "    <tr>\n",
              "      <th>2</th>\n",
              "      <td>100263-2-0-121.wav</td>\n",
              "      <td>100263</td>\n",
              "      <td>60.5</td>\n",
              "      <td>64.500000</td>\n",
              "      <td>1</td>\n",
              "      <td>5</td>\n",
              "      <td>2</td>\n",
              "      <td>children_playing</td>\n",
              "    </tr>\n",
              "    <tr>\n",
              "      <th>3</th>\n",
              "      <td>100263-2-0-126.wav</td>\n",
              "      <td>100263</td>\n",
              "      <td>63.0</td>\n",
              "      <td>67.000000</td>\n",
              "      <td>1</td>\n",
              "      <td>5</td>\n",
              "      <td>2</td>\n",
              "      <td>children_playing</td>\n",
              "    </tr>\n",
              "    <tr>\n",
              "      <th>4</th>\n",
              "      <td>100263-2-0-137.wav</td>\n",
              "      <td>100263</td>\n",
              "      <td>68.5</td>\n",
              "      <td>72.500000</td>\n",
              "      <td>1</td>\n",
              "      <td>5</td>\n",
              "      <td>2</td>\n",
              "      <td>children_playing</td>\n",
              "    </tr>\n",
              "  </tbody>\n",
              "</table>\n",
              "</div>"
            ],
            "text/plain": [
              "      slice_file_name    fsID  start  ...  fold  classID             class\n",
              "0    100032-3-0-0.wav  100032    0.0  ...     5        3          dog_bark\n",
              "1  100263-2-0-117.wav  100263   58.5  ...     5        2  children_playing\n",
              "2  100263-2-0-121.wav  100263   60.5  ...     5        2  children_playing\n",
              "3  100263-2-0-126.wav  100263   63.0  ...     5        2  children_playing\n",
              "4  100263-2-0-137.wav  100263   68.5  ...     5        2  children_playing\n",
              "\n",
              "[5 rows x 8 columns]"
            ]
          },
          "metadata": {
            "tags": []
          },
          "execution_count": 9
        }
      ]
    },
    {
      "cell_type": "code",
      "metadata": {
        "id": "bxs4NBGipoEb",
        "colab_type": "code",
        "colab": {
          "base_uri": "https://localhost:8080/",
          "height": 202
        },
        "outputId": "18c40278-dae5-467e-be1b-b77e562fae67"
      },
      "source": [
        "#To check the number of audio clips in each fold[1-10]\n",
        "audio_df['fold'].value_counts()"
      ],
      "execution_count": 10,
      "outputs": [
        {
          "output_type": "execute_result",
          "data": {
            "text/plain": [
              "4     990\n",
              "5     936\n",
              "3     925\n",
              "2     888\n",
              "1     873\n",
              "7     838\n",
              "10    837\n",
              "6     823\n",
              "9     816\n",
              "8     806\n",
              "Name: fold, dtype: int64"
            ]
          },
          "metadata": {
            "tags": []
          },
          "execution_count": 10
        }
      ]
    },
    {
      "cell_type": "markdown",
      "metadata": {
        "id": "BmOGu63arXoH",
        "colab_type": "text"
      },
      "source": [
        "## **To visualize the mel spectrogram,chromagram of an audio clip**"
      ]
    },
    {
      "cell_type": "code",
      "metadata": {
        "id": "ysGaoZz0qlwx",
        "colab_type": "code",
        "colab": {
          "base_uri": "https://localhost:8080/",
          "height": 34
        },
        "outputId": "c32f97fa-339b-4722-ecb1-ae8d0d148d64"
      },
      "source": [
        "#To load siren audio clip using librosa.load that returns the sampling rate of the audio signal\n",
        "y,sr=lib.load(\"UrbanSound8K/audio/fold2/159743-8-0-0.wav\")\n",
        "\n",
        "mfccs = lib.feature.mfcc(y, sr, n_mfcc=40)\n",
        "melspectrogram =lib.feature.melspectrogram(y=y, sr=sr, n_mels=40,fmax=8000)\n",
        "chroma_stft=lib.feature.chroma_stft(y=y, sr=sr,n_chroma=40)\n",
        "chroma_cq =lib.feature.chroma_cqt(y=y, sr=sr,n_chroma=40)\n",
        "chroma_cens =lib.feature.chroma_cens(y=y, sr=sr,n_chroma=40)\n",
        "\n",
        "print(melspectrogram.shape,chroma_stft.shape,chroma_cq.shape,chroma_cens.shape,mfccs.shape)"
      ],
      "execution_count": 91,
      "outputs": [
        {
          "output_type": "stream",
          "text": [
            "(40, 173) (40, 173) (40, 173) (40, 173) (40, 173)\n"
          ],
          "name": "stdout"
        }
      ]
    },
    {
      "cell_type": "code",
      "metadata": {
        "id": "W-6pTCYrtYqH",
        "colab_type": "code",
        "colab": {
          "base_uri": "https://localhost:8080/",
          "height": 369
        },
        "outputId": "8f5b43c3-f52c-4551-c90d-ecf516b50231"
      },
      "source": [
        "#MFCC of siren audio clip\n",
        "plt.figure(figsize=(10,5))\n",
        "lib.display.specshow(mfccs, x_axis='time')\n",
        "plt.colorbar()\n",
        "plt.title('MFCC')\n",
        "plt.tight_layout()"
      ],
      "execution_count": 92,
      "outputs": [
        {
          "output_type": "display_data",
          "data": {
            "image/png": "[encoded data removed]",
            "text/plain": [
              "<Figure size 720x360 with 2 Axes>"
            ]
          },
          "metadata": {
            "tags": []
          }
        }
      ]
    },
    {
      "cell_type": "code",
      "metadata": {
        "id": "04mJG0_BuNAt",
        "colab_type": "code",
        "colab": {
          "base_uri": "https://localhost:8080/",
          "height": 369
        },
        "outputId": "354e5ba4-2157-478e-cbbd-7b802bd10fd2"
      },
      "source": [
        "#Mel spectrogram of siren audio clip\n",
        "plt.figure(figsize=(10,5))\n",
        "lib.display.specshow(lib.power_to_db(melspectrogram,ref=np.max),y_axis='mel', fmax=8000,x_axis='time')\n",
        "plt.colorbar(format='%+2.0f dB')\n",
        "plt.title('Mel spectrogram')\n",
        "plt.tight_layout()"
      ],
      "execution_count": 93,
      "outputs": [
        {
          "output_type": "display_data",
          "data": {
            "image/png": "[encoded data removed]",
            "text/plain": [
              "<Figure size 720x360 with 2 Axes>"
            ]
          },
          "metadata": {
            "tags": []
          }
        }
      ]
    },
    {
      "cell_type": "code",
      "metadata": {
        "id": "Jl7u7ik4vQZQ",
        "colab_type": "code",
        "colab": {
          "base_uri": "https://localhost:8080/",
          "height": 369
        },
        "outputId": "16e5cded-c97a-4656-e325-9878d00ce6d9"
      },
      "source": [
        "#Chromagram of siren audio clip\n",
        "plt.figure(figsize=(10,5))\n",
        "lib.display.specshow(chroma_stft, y_axis='chroma', x_axis='time')\n",
        "plt.colorbar()\n",
        "plt.title('Chromagram')\n",
        "plt.tight_layout()\n"
      ],
      "execution_count": 94,
      "outputs": [
        {
          "output_type": "display_data",
          "data": {
            "image/png": "[encoded data removed]",
            "text/plain": [
              "<Figure size 720x360 with 2 Axes>"
            ]
          },
          "metadata": {
            "tags": []
          }
        }
      ]
    },
    {
      "cell_type": "code",
      "metadata": {
        "id": "WcoS1wsrsfS-",
        "colab_type": "code",
        "colab": {
          "base_uri": "https://localhost:8080/",
          "height": 369
        },
        "outputId": "a665edf3-e686-47ad-f4d5-eb018d76b8b1"
      },
      "source": [
        "#Chroma sqt of siren audio clip\n",
        "plt.figure(figsize=(10,5))\n",
        "lib.display.specshow(chroma_cq, y_axis='chroma', x_axis='time')\n",
        "plt.colorbar()\n",
        "plt.title('Chroma cqt')\n",
        "plt.tight_layout()"
      ],
      "execution_count": 96,
      "outputs": [
        {
          "output_type": "display_data",
          "data": {
            "image/png": "[encoded data removed]",
            "text/plain": [
              "<Figure size 720x360 with 2 Axes>"
            ]
          },
          "metadata": {
            "tags": []
          }
        }
      ]
    },
    {
      "cell_type": "code",
      "metadata": {
        "id": "OD-nASIVvga1",
        "colab_type": "code",
        "colab": {
          "base_uri": "https://localhost:8080/",
          "height": 1000
        },
        "outputId": "f51ebe1f-d8a4-4c24-8e5f-6e85f986be94"
      },
      "source": [
        "\n",
        "#Extract features from audio clips using Librosa.feature\n",
        "x_train=[]\n",
        "x_test=[]\n",
        "y_train=[]\n",
        "y_test=[]\n",
        "path=\"UrbanSound8K/audio/fold\"\n",
        "for i in tqdm(range(len(audio_df))):\n",
        "    fold_no=str(audio_df.iloc[i][\"fold\"])\n",
        "    file=audio_df.iloc[i][\"slice_file_name\"]\n",
        "    label=audio_df.iloc[i][\"classID\"]\n",
        "    filename=path+fold_no+\"/\"+file\n",
        "    #print(filename)\n",
        "    y,sr=lib.load(filename)\n",
        "    mfccs = np.mean(lib.feature.mfcc(y, sr, n_mfcc=40).T,axis=0)\n",
        "    melspectrogram = np.mean(lib.feature.melspectrogram(y=y, sr=sr, n_mels=40,fmax=8000).T,axis=0)\n",
        "    chroma_stft=np.mean(lib.feature.chroma_stft(y=y, sr=sr,n_chroma=40).T,axis=0)\n",
        "    chroma_cq = np.mean(lib.feature.chroma_cqt(y=y, sr=sr,n_chroma=40).T,axis=0)\n",
        "    chroma_cens = np.mean(lib.feature.chroma_cens(y=y, sr=sr,n_chroma=40).T,axis=0)\n",
        "    features=np.reshape(np.vstack((mfccs,melspectrogram,chroma_stft,chroma_cq,chroma_cens)),(40,5))\n",
        "    \n",
        "    if(fold_no!='10'):\n",
        "      x_train.append(features)\n",
        "      y_train.append(label)\n",
        "    else:\n",
        "      x_test.append(features)\n",
        "      y_test.append(label)"
      ],
      "execution_count": 46,
      "outputs": [
        {
          "output_type": "stream",
          "text": [
            "  1%|          | 67/8732 [00:52<1:56:23,  1.24it/s]/usr/local/lib/python3.6/dist-packages/librosa/core/pitch.py:145: UserWarning: Trying to estimate tuning from empty frequency set.\n",
            "  warnings.warn('Trying to estimate tuning from empty frequency set.')\n",
            "  1%|          | 68/8732 [00:53<2:00:23,  1.20it/s]/usr/local/lib/python3.6/dist-packages/librosa/core/pitch.py:145: UserWarning: Trying to estimate tuning from empty frequency set.\n",
            "  warnings.warn('Trying to estimate tuning from empty frequency set.')\n",
            "  1%|          | 69/8732 [00:54<2:03:21,  1.17it/s]/usr/local/lib/python3.6/dist-packages/librosa/core/pitch.py:145: UserWarning: Trying to estimate tuning from empty frequency set.\n",
            "  warnings.warn('Trying to estimate tuning from empty frequency set.')\n",
            "  1%|          | 71/8732 [00:56<2:06:15,  1.14it/s]/usr/local/lib/python3.6/dist-packages/librosa/core/pitch.py:145: UserWarning: Trying to estimate tuning from empty frequency set.\n",
            "  warnings.warn('Trying to estimate tuning from empty frequency set.')\n",
            "  1%|          | 72/8732 [00:57<2:07:39,  1.13it/s]/usr/local/lib/python3.6/dist-packages/librosa/core/pitch.py:145: UserWarning: Trying to estimate tuning from empty frequency set.\n",
            "  warnings.warn('Trying to estimate tuning from empty frequency set.')\n",
            "  1%|          | 73/8732 [00:58<2:07:19,  1.13it/s]/usr/local/lib/python3.6/dist-packages/librosa/core/pitch.py:145: UserWarning: Trying to estimate tuning from empty frequency set.\n",
            "  warnings.warn('Trying to estimate tuning from empty frequency set.')\n",
            "  1%|          | 74/8732 [00:58<2:09:57,  1.11it/s]/usr/local/lib/python3.6/dist-packages/librosa/core/pitch.py:145: UserWarning: Trying to estimate tuning from empty frequency set.\n",
            "  warnings.warn('Trying to estimate tuning from empty frequency set.')\n",
            "  1%|          | 75/8732 [00:59<2:09:09,  1.12it/s]/usr/local/lib/python3.6/dist-packages/librosa/core/pitch.py:145: UserWarning: Trying to estimate tuning from empty frequency set.\n",
            "  warnings.warn('Trying to estimate tuning from empty frequency set.')\n",
            "  1%|          | 76/8732 [01:00<2:10:17,  1.11it/s]/usr/local/lib/python3.6/dist-packages/librosa/core/pitch.py:145: UserWarning: Trying to estimate tuning from empty frequency set.\n",
            "  warnings.warn('Trying to estimate tuning from empty frequency set.')\n",
            "  1%|          | 77/8732 [01:01<2:10:34,  1.10it/s]/usr/local/lib/python3.6/dist-packages/librosa/core/pitch.py:145: UserWarning: Trying to estimate tuning from empty frequency set.\n",
            "  warnings.warn('Trying to estimate tuning from empty frequency set.')\n",
            "  1%|          | 78/8732 [01:02<2:09:56,  1.11it/s]/usr/local/lib/python3.6/dist-packages/librosa/core/pitch.py:145: UserWarning: Trying to estimate tuning from empty frequency set.\n",
            "  warnings.warn('Trying to estimate tuning from empty frequency set.')\n",
            "  1%|          | 79/8732 [01:03<2:11:08,  1.10it/s]/usr/local/lib/python3.6/dist-packages/librosa/core/pitch.py:145: UserWarning: Trying to estimate tuning from empty frequency set.\n",
            "  warnings.warn('Trying to estimate tuning from empty frequency set.')\n",
            "  1%|          | 80/8732 [01:04<2:09:54,  1.11it/s]/usr/local/lib/python3.6/dist-packages/librosa/core/pitch.py:145: UserWarning: Trying to estimate tuning from empty frequency set.\n",
            "  warnings.warn('Trying to estimate tuning from empty frequency set.')\n",
            "  1%|          | 81/8732 [01:05<2:11:48,  1.09it/s]/usr/local/lib/python3.6/dist-packages/librosa/core/pitch.py:145: UserWarning: Trying to estimate tuning from empty frequency set.\n",
            "  warnings.warn('Trying to estimate tuning from empty frequency set.')\n",
            "  1%|          | 84/8732 [01:07<2:08:56,  1.12it/s]/usr/local/lib/python3.6/dist-packages/librosa/core/pitch.py:145: UserWarning: Trying to estimate tuning from empty frequency set.\n",
            "  warnings.warn('Trying to estimate tuning from empty frequency set.')\n",
            "  1%|          | 85/8732 [01:08<2:08:26,  1.12it/s]/usr/local/lib/python3.6/dist-packages/librosa/core/pitch.py:145: UserWarning: Trying to estimate tuning from empty frequency set.\n",
            "  warnings.warn('Trying to estimate tuning from empty frequency set.')\n",
            "  1%|          | 86/8732 [01:09<2:09:59,  1.11it/s]/usr/local/lib/python3.6/dist-packages/librosa/core/pitch.py:145: UserWarning: Trying to estimate tuning from empty frequency set.\n",
            "  warnings.warn('Trying to estimate tuning from empty frequency set.')\n",
            "  1%|          | 87/8732 [01:10<2:09:12,  1.12it/s]/usr/local/lib/python3.6/dist-packages/librosa/core/pitch.py:145: UserWarning: Trying to estimate tuning from empty frequency set.\n",
            "  warnings.warn('Trying to estimate tuning from empty frequency set.')\n",
            "  1%|          | 88/8732 [01:11<2:10:43,  1.10it/s]/usr/local/lib/python3.6/dist-packages/librosa/core/pitch.py:145: UserWarning: Trying to estimate tuning from empty frequency set.\n",
            "  warnings.warn('Trying to estimate tuning from empty frequency set.')\n",
            "  1%|          | 89/8732 [01:12<2:10:06,  1.11it/s]/usr/local/lib/python3.6/dist-packages/librosa/core/pitch.py:145: UserWarning: Trying to estimate tuning from empty frequency set.\n",
            "  warnings.warn('Trying to estimate tuning from empty frequency set.')\n",
            "  1%|          | 90/8732 [01:13<2:11:06,  1.10it/s]/usr/local/lib/python3.6/dist-packages/librosa/core/pitch.py:145: UserWarning: Trying to estimate tuning from empty frequency set.\n",
            "  warnings.warn('Trying to estimate tuning from empty frequency set.')\n",
            "  1%|          | 91/8732 [01:14<2:11:29,  1.10it/s]/usr/local/lib/python3.6/dist-packages/librosa/core/pitch.py:145: UserWarning: Trying to estimate tuning from empty frequency set.\n",
            "  warnings.warn('Trying to estimate tuning from empty frequency set.')\n",
            "  1%|          | 92/8732 [01:15<2:10:11,  1.11it/s]/usr/local/lib/python3.6/dist-packages/librosa/core/pitch.py:145: UserWarning: Trying to estimate tuning from empty frequency set.\n",
            "  warnings.warn('Trying to estimate tuning from empty frequency set.')\n",
            "  1%|          | 93/8732 [01:16<2:11:35,  1.09it/s]/usr/local/lib/python3.6/dist-packages/librosa/core/pitch.py:145: UserWarning: Trying to estimate tuning from empty frequency set.\n",
            "  warnings.warn('Trying to estimate tuning from empty frequency set.')\n",
            "  1%|▏         | 122/8732 [01:38<1:55:18,  1.24it/s]/usr/local/lib/python3.6/dist-packages/librosa/core/pitch.py:145: UserWarning: Trying to estimate tuning from empty frequency set.\n",
            "  warnings.warn('Trying to estimate tuning from empty frequency set.')\n",
            "  1%|▏         | 123/8732 [01:38<1:55:49,  1.24it/s]/usr/local/lib/python3.6/dist-packages/librosa/core/pitch.py:145: UserWarning: Trying to estimate tuning from empty frequency set.\n",
            "  warnings.warn('Trying to estimate tuning from empty frequency set.')\n",
            "  1%|▏         | 124/8732 [01:39<1:56:20,  1.23it/s]/usr/local/lib/python3.6/dist-packages/librosa/core/pitch.py:145: UserWarning: Trying to estimate tuning from empty frequency set.\n",
            "  warnings.warn('Trying to estimate tuning from empty frequency set.')\n",
            "  1%|▏         | 125/8732 [01:40<1:56:26,  1.23it/s]/usr/local/lib/python3.6/dist-packages/librosa/core/pitch.py:145: UserWarning: Trying to estimate tuning from empty frequency set.\n",
            "  warnings.warn('Trying to estimate tuning from empty frequency set.')\n",
            "  1%|▏         | 126/8732 [01:41<1:57:35,  1.22it/s]/usr/local/lib/python3.6/dist-packages/librosa/core/pitch.py:145: UserWarning: Trying to estimate tuning from empty frequency set.\n",
            "  warnings.warn('Trying to estimate tuning from empty frequency set.')\n",
            "  1%|▏         | 127/8732 [01:42<1:56:59,  1.23it/s]/usr/local/lib/python3.6/dist-packages/librosa/core/pitch.py:145: UserWarning: Trying to estimate tuning from empty frequency set.\n",
            "  warnings.warn('Trying to estimate tuning from empty frequency set.')\n",
            "  1%|▏         | 128/8732 [01:42<1:56:51,  1.23it/s]/usr/local/lib/python3.6/dist-packages/librosa/core/pitch.py:145: UserWarning: Trying to estimate tuning from empty frequency set.\n",
            "  warnings.warn('Trying to estimate tuning from empty frequency set.')\n",
            "  1%|▏         | 129/8732 [01:43<1:58:21,  1.21it/s]/usr/local/lib/python3.6/dist-packages/librosa/core/pitch.py:145: UserWarning: Trying to estimate tuning from empty frequency set.\n",
            "  warnings.warn('Trying to estimate tuning from empty frequency set.')\n",
            "  1%|▏         | 130/8732 [01:44<1:58:11,  1.21it/s]/usr/local/lib/python3.6/dist-packages/librosa/core/pitch.py:145: UserWarning: Trying to estimate tuning from empty frequency set.\n",
            "  warnings.warn('Trying to estimate tuning from empty frequency set.')\n",
            "  2%|▏         | 131/8732 [01:45<2:00:26,  1.19it/s]/usr/local/lib/python3.6/dist-packages/librosa/core/pitch.py:145: UserWarning: Trying to estimate tuning from empty frequency set.\n",
            "  warnings.warn('Trying to estimate tuning from empty frequency set.')\n",
            "  2%|▏         | 132/8732 [01:46<2:00:49,  1.19it/s]/usr/local/lib/python3.6/dist-packages/librosa/core/pitch.py:145: UserWarning: Trying to estimate tuning from empty frequency set.\n",
            "  warnings.warn('Trying to estimate tuning from empty frequency set.')\n",
            "  2%|▏         | 133/8732 [01:47<1:59:40,  1.20it/s]/usr/local/lib/python3.6/dist-packages/librosa/core/pitch.py:145: UserWarning: Trying to estimate tuning from empty frequency set.\n",
            "  warnings.warn('Trying to estimate tuning from empty frequency set.')\n",
            "  2%|▏         | 134/8732 [01:47<1:59:40,  1.20it/s]/usr/local/lib/python3.6/dist-packages/librosa/core/pitch.py:145: UserWarning: Trying to estimate tuning from empty frequency set.\n",
            "  warnings.warn('Trying to estimate tuning from empty frequency set.')\n",
            "  2%|▏         | 135/8732 [01:48<1:59:18,  1.20it/s]/usr/local/lib/python3.6/dist-packages/librosa/core/pitch.py:145: UserWarning: Trying to estimate tuning from empty frequency set.\n",
            "  warnings.warn('Trying to estimate tuning from empty frequency set.')\n",
            "  2%|▏         | 136/8732 [01:49<1:59:16,  1.20it/s]/usr/local/lib/python3.6/dist-packages/librosa/core/pitch.py:145: UserWarning: Trying to estimate tuning from empty frequency set.\n",
            "  warnings.warn('Trying to estimate tuning from empty frequency set.')\n",
            "  2%|▏         | 137/8732 [01:50<1:59:26,  1.20it/s]/usr/local/lib/python3.6/dist-packages/librosa/core/pitch.py:145: UserWarning: Trying to estimate tuning from empty frequency set.\n",
            "  warnings.warn('Trying to estimate tuning from empty frequency set.')\n",
            "  2%|▏         | 138/8732 [01:51<1:59:55,  1.19it/s]/usr/local/lib/python3.6/dist-packages/librosa/core/pitch.py:145: UserWarning: Trying to estimate tuning from empty frequency set.\n",
            "  warnings.warn('Trying to estimate tuning from empty frequency set.')\n",
            "  2%|▏         | 139/8732 [01:52<1:58:42,  1.21it/s]/usr/local/lib/python3.6/dist-packages/librosa/core/pitch.py:145: UserWarning: Trying to estimate tuning from empty frequency set.\n",
            "  warnings.warn('Trying to estimate tuning from empty frequency set.')\n",
            "  2%|▏         | 140/8732 [01:52<1:56:10,  1.23it/s]/usr/local/lib/python3.6/dist-packages/librosa/core/pitch.py:145: UserWarning: Trying to estimate tuning from empty frequency set.\n",
            "  warnings.warn('Trying to estimate tuning from empty frequency set.')\n",
            "  2%|▏         | 141/8732 [01:53<1:56:44,  1.23it/s]/usr/local/lib/python3.6/dist-packages/librosa/core/pitch.py:145: UserWarning: Trying to estimate tuning from empty frequency set.\n",
            "  warnings.warn('Trying to estimate tuning from empty frequency set.')\n",
            "  2%|▏         | 142/8732 [01:54<1:56:09,  1.23it/s]/usr/local/lib/python3.6/dist-packages/librosa/core/pitch.py:145: UserWarning: Trying to estimate tuning from empty frequency set.\n",
            "  warnings.warn('Trying to estimate tuning from empty frequency set.')\n",
            "  2%|▏         | 143/8732 [01:55<1:55:14,  1.24it/s]/usr/local/lib/python3.6/dist-packages/librosa/core/pitch.py:145: UserWarning: Trying to estimate tuning from empty frequency set.\n",
            "  warnings.warn('Trying to estimate tuning from empty frequency set.')\n",
            "  2%|▏         | 144/8732 [01:56<1:55:20,  1.24it/s]/usr/local/lib/python3.6/dist-packages/librosa/core/pitch.py:145: UserWarning: Trying to estimate tuning from empty frequency set.\n",
            "  warnings.warn('Trying to estimate tuning from empty frequency set.')\n",
            "  2%|▏         | 145/8732 [01:56<1:54:14,  1.25it/s]/usr/local/lib/python3.6/dist-packages/librosa/core/pitch.py:145: UserWarning: Trying to estimate tuning from empty frequency set.\n",
            "  warnings.warn('Trying to estimate tuning from empty frequency set.')\n",
            "  2%|▏         | 146/8732 [01:57<1:55:34,  1.24it/s]/usr/local/lib/python3.6/dist-packages/librosa/core/pitch.py:145: UserWarning: Trying to estimate tuning from empty frequency set.\n",
            "  warnings.warn('Trying to estimate tuning from empty frequency set.')\n",
            "  2%|▏         | 147/8732 [01:58<1:54:05,  1.25it/s]/usr/local/lib/python3.6/dist-packages/librosa/core/pitch.py:145: UserWarning: Trying to estimate tuning from empty frequency set.\n",
            "  warnings.warn('Trying to estimate tuning from empty frequency set.')\n",
            "  2%|▏         | 148/8732 [01:59<1:53:54,  1.26it/s]/usr/local/lib/python3.6/dist-packages/librosa/core/pitch.py:145: UserWarning: Trying to estimate tuning from empty frequency set.\n",
            "  warnings.warn('Trying to estimate tuning from empty frequency set.')\n",
            "  2%|▏         | 149/8732 [02:00<1:54:55,  1.24it/s]/usr/local/lib/python3.6/dist-packages/librosa/core/pitch.py:145: UserWarning: Trying to estimate tuning from empty frequency set.\n",
            "  warnings.warn('Trying to estimate tuning from empty frequency set.')\n",
            "  2%|▏         | 150/8732 [02:00<1:53:15,  1.26it/s]/usr/local/lib/python3.6/dist-packages/librosa/core/pitch.py:145: UserWarning: Trying to estimate tuning from empty frequency set.\n",
            "  warnings.warn('Trying to estimate tuning from empty frequency set.')\n",
            "  2%|▏         | 151/8732 [02:01<1:52:21,  1.27it/s]/usr/local/lib/python3.6/dist-packages/librosa/core/pitch.py:145: UserWarning: Trying to estimate tuning from empty frequency set.\n",
            "  warnings.warn('Trying to estimate tuning from empty frequency set.')\n",
            "  2%|▏         | 152/8732 [02:02<1:53:56,  1.26it/s]/usr/local/lib/python3.6/dist-packages/librosa/core/pitch.py:145: UserWarning: Trying to estimate tuning from empty frequency set.\n",
            "  warnings.warn('Trying to estimate tuning from empty frequency set.')\n",
            "  2%|▏         | 153/8732 [02:03<1:53:28,  1.26it/s]/usr/local/lib/python3.6/dist-packages/librosa/core/pitch.py:145: UserWarning: Trying to estimate tuning from empty frequency set.\n",
            "  warnings.warn('Trying to estimate tuning from empty frequency set.')\n",
            "  2%|▏         | 154/8732 [02:04<1:55:26,  1.24it/s]/usr/local/lib/python3.6/dist-packages/librosa/core/pitch.py:145: UserWarning: Trying to estimate tuning from empty frequency set.\n",
            "  warnings.warn('Trying to estimate tuning from empty frequency set.')\n",
            "  6%|▌         | 486/8732 [06:47<1:54:08,  1.20it/s]/usr/local/lib/python3.6/dist-packages/librosa/core/pitch.py:145: UserWarning: Trying to estimate tuning from empty frequency set.\n",
            "  warnings.warn('Trying to estimate tuning from empty frequency set.')\n",
            "  6%|▌         | 487/8732 [06:48<1:52:29,  1.22it/s]/usr/local/lib/python3.6/dist-packages/librosa/core/pitch.py:145: UserWarning: Trying to estimate tuning from empty frequency set.\n",
            "  warnings.warn('Trying to estimate tuning from empty frequency set.')\n",
            "  6%|▌         | 488/8732 [06:49<1:52:31,  1.22it/s]/usr/local/lib/python3.6/dist-packages/librosa/core/pitch.py:145: UserWarning: Trying to estimate tuning from empty frequency set.\n",
            "  warnings.warn('Trying to estimate tuning from empty frequency set.')\n",
            " 11%|█         | 944/8732 [13:15<1:33:53,  1.38it/s]/usr/local/lib/python3.6/dist-packages/librosa/core/pitch.py:145: UserWarning: Trying to estimate tuning from empty frequency set.\n",
            "  warnings.warn('Trying to estimate tuning from empty frequency set.')\n",
            " 11%|█▏        | 993/8732 [13:56<1:33:15,  1.38it/s]/usr/local/lib/python3.6/dist-packages/librosa/core/pitch.py:145: UserWarning: Trying to estimate tuning from empty frequency set.\n",
            "  warnings.warn('Trying to estimate tuning from empty frequency set.')\n",
            " 11%|█▏        | 994/8732 [13:57<1:36:22,  1.34it/s]/usr/local/lib/python3.6/dist-packages/librosa/core/pitch.py:145: UserWarning: Trying to estimate tuning from empty frequency set.\n",
            "  warnings.warn('Trying to estimate tuning from empty frequency set.')\n",
            " 13%|█▎        | 1150/8732 [16:00<1:31:01,  1.39it/s]/usr/local/lib/python3.6/dist-packages/librosa/core/pitch.py:145: UserWarning: Trying to estimate tuning from empty frequency set.\n",
            "  warnings.warn('Trying to estimate tuning from empty frequency set.')\n",
            " 13%|█▎        | 1151/8732 [16:01<1:34:56,  1.33it/s]/usr/local/lib/python3.6/dist-packages/librosa/core/pitch.py:145: UserWarning: Trying to estimate tuning from empty frequency set.\n",
            "  warnings.warn('Trying to estimate tuning from empty frequency set.')\n",
            " 21%|██        | 1828/8732 [25:01<1:20:54,  1.42it/s]/usr/local/lib/python3.6/dist-packages/librosa/core/pitch.py:145: UserWarning: Trying to estimate tuning from empty frequency set.\n",
            "  warnings.warn('Trying to estimate tuning from empty frequency set.')\n",
            " 21%|██        | 1829/8732 [25:02<1:24:22,  1.36it/s]/usr/local/lib/python3.6/dist-packages/librosa/core/pitch.py:145: UserWarning: Trying to estimate tuning from empty frequency set.\n",
            "  warnings.warn('Trying to estimate tuning from empty frequency set.')\n",
            " 21%|██        | 1830/8732 [25:03<1:27:42,  1.31it/s]/usr/local/lib/python3.6/dist-packages/librosa/core/pitch.py:145: UserWarning: Trying to estimate tuning from empty frequency set.\n",
            "  warnings.warn('Trying to estimate tuning from empty frequency set.')\n",
            " 21%|██        | 1836/8732 [25:08<1:32:47,  1.24it/s]/usr/local/lib/python3.6/dist-packages/librosa/core/pitch.py:145: UserWarning: Trying to estimate tuning from empty frequency set.\n",
            "  warnings.warn('Trying to estimate tuning from empty frequency set.')\n",
            " 21%|██        | 1837/8732 [25:09<1:32:27,  1.24it/s]/usr/local/lib/python3.6/dist-packages/librosa/core/pitch.py:145: UserWarning: Trying to estimate tuning from empty frequency set.\n",
            "  warnings.warn('Trying to estimate tuning from empty frequency set.')\n",
            " 21%|██        | 1838/8732 [25:09<1:33:30,  1.23it/s]/usr/local/lib/python3.6/dist-packages/librosa/core/pitch.py:145: UserWarning: Trying to estimate tuning from empty frequency set.\n",
            "  warnings.warn('Trying to estimate tuning from empty frequency set.')\n",
            " 21%|██        | 1842/8732 [25:12<1:23:08,  1.38it/s]/usr/local/lib/python3.6/dist-packages/librosa/core/pitch.py:145: UserWarning: Trying to estimate tuning from empty frequency set.\n",
            "  warnings.warn('Trying to estimate tuning from empty frequency set.')\n",
            " 21%|██        | 1844/8732 [25:14<1:34:12,  1.22it/s]/usr/local/lib/python3.6/dist-packages/librosa/core/pitch.py:145: UserWarning: Trying to estimate tuning from empty frequency set.\n",
            "  warnings.warn('Trying to estimate tuning from empty frequency set.')\n",
            " 21%|██        | 1847/8732 [25:17<1:43:37,  1.11it/s]/usr/local/lib/python3.6/dist-packages/librosa/core/pitch.py:145: UserWarning: Trying to estimate tuning from empty frequency set.\n",
            "  warnings.warn('Trying to estimate tuning from empty frequency set.')\n",
            " 21%|██        | 1850/8732 [25:20<1:45:13,  1.09it/s]/usr/local/lib/python3.6/dist-packages/librosa/core/pitch.py:145: UserWarning: Trying to estimate tuning from empty frequency set.\n",
            "  warnings.warn('Trying to estimate tuning from empty frequency set.')\n",
            " 21%|██        | 1855/8732 [25:24<1:47:20,  1.07it/s]/usr/local/lib/python3.6/dist-packages/librosa/core/pitch.py:145: UserWarning: Trying to estimate tuning from empty frequency set.\n",
            "  warnings.warn('Trying to estimate tuning from empty frequency set.')\n",
            " 21%|██▏       | 1856/8732 [25:25<1:46:23,  1.08it/s]/usr/local/lib/python3.6/dist-packages/librosa/core/pitch.py:145: UserWarning: Trying to estimate tuning from empty frequency set.\n",
            "  warnings.warn('Trying to estimate tuning from empty frequency set.')\n",
            " 21%|██▏       | 1866/8732 [25:34<1:45:34,  1.08it/s]/usr/local/lib/python3.6/dist-packages/librosa/core/pitch.py:145: UserWarning: Trying to estimate tuning from empty frequency set.\n",
            "  warnings.warn('Trying to estimate tuning from empty frequency set.')\n",
            " 22%|██▏       | 1905/8732 [26:10<1:45:53,  1.07it/s]/usr/local/lib/python3.6/dist-packages/librosa/core/pitch.py:145: UserWarning: Trying to estimate tuning from empty frequency set.\n",
            "  warnings.warn('Trying to estimate tuning from empty frequency set.')\n",
            " 22%|██▏       | 1906/8732 [26:11<1:45:50,  1.07it/s]/usr/local/lib/python3.6/dist-packages/librosa/core/pitch.py:145: UserWarning: Trying to estimate tuning from empty frequency set.\n",
            "  warnings.warn('Trying to estimate tuning from empty frequency set.')\n",
            " 22%|██▏       | 1907/8732 [26:12<1:46:42,  1.07it/s]/usr/local/lib/python3.6/dist-packages/librosa/core/pitch.py:145: UserWarning: Trying to estimate tuning from empty frequency set.\n",
            "  warnings.warn('Trying to estimate tuning from empty frequency set.')\n",
            " 22%|██▏       | 1908/8732 [26:13<1:47:08,  1.06it/s]/usr/local/lib/python3.6/dist-packages/librosa/core/pitch.py:145: UserWarning: Trying to estimate tuning from empty frequency set.\n",
            "  warnings.warn('Trying to estimate tuning from empty frequency set.')\n",
            " 22%|██▏       | 1909/8732 [26:14<1:46:45,  1.07it/s]/usr/local/lib/python3.6/dist-packages/librosa/core/pitch.py:145: UserWarning: Trying to estimate tuning from empty frequency set.\n",
            "  warnings.warn('Trying to estimate tuning from empty frequency set.')\n",
            " 22%|██▏       | 1911/8732 [26:16<1:45:22,  1.08it/s]/usr/local/lib/python3.6/dist-packages/librosa/core/pitch.py:145: UserWarning: Trying to estimate tuning from empty frequency set.\n",
            "  warnings.warn('Trying to estimate tuning from empty frequency set.')\n",
            " 25%|██▍       | 2166/8732 [29:40<1:27:43,  1.25it/s]/usr/local/lib/python3.6/dist-packages/librosa/core/pitch.py:145: UserWarning: Trying to estimate tuning from empty frequency set.\n",
            "  warnings.warn('Trying to estimate tuning from empty frequency set.')\n",
            " 25%|██▍       | 2167/8732 [29:41<1:27:43,  1.25it/s]/usr/local/lib/python3.6/dist-packages/librosa/core/pitch.py:145: UserWarning: Trying to estimate tuning from empty frequency set.\n",
            "  warnings.warn('Trying to estimate tuning from empty frequency set.')\n",
            " 25%|██▍       | 2168/8732 [29:42<1:27:04,  1.26it/s]/usr/local/lib/python3.6/dist-packages/librosa/core/pitch.py:145: UserWarning: Trying to estimate tuning from empty frequency set.\n",
            "  warnings.warn('Trying to estimate tuning from empty frequency set.')\n",
            " 30%|██▉       | 2584/8732 [35:25<1:25:38,  1.20it/s]/usr/local/lib/python3.6/dist-packages/librosa/core/pitch.py:145: UserWarning: Trying to estimate tuning from empty frequency set.\n",
            "  warnings.warn('Trying to estimate tuning from empty frequency set.')\n",
            " 30%|██▉       | 2603/8732 [35:37<1:01:55,  1.65it/s]/usr/local/lib/python3.6/dist-packages/librosa/core/pitch.py:145: UserWarning: Trying to estimate tuning from empty frequency set.\n",
            "  warnings.warn('Trying to estimate tuning from empty frequency set.')\n",
            " 30%|██▉       | 2604/8732 [35:37<57:11,  1.79it/s]  /usr/local/lib/python3.6/dist-packages/librosa/core/pitch.py:145: UserWarning: Trying to estimate tuning from empty frequency set.\n",
            "  warnings.warn('Trying to estimate tuning from empty frequency set.')\n",
            " 30%|██▉       | 2605/8732 [35:38<55:10,  1.85it/s]/usr/local/lib/python3.6/dist-packages/librosa/core/pitch.py:145: UserWarning: Trying to estimate tuning from empty frequency set.\n",
            "  warnings.warn('Trying to estimate tuning from empty frequency set.')\n",
            " 30%|██▉       | 2606/8732 [35:38<54:46,  1.86it/s]/usr/local/lib/python3.6/dist-packages/librosa/core/pitch.py:145: UserWarning: Trying to estimate tuning from empty frequency set.\n",
            "  warnings.warn('Trying to estimate tuning from empty frequency set.')\n",
            " 32%|███▏      | 2787/8732 [38:20<1:29:37,  1.11it/s]/usr/local/lib/python3.6/dist-packages/librosa/core/pitch.py:145: UserWarning: Trying to estimate tuning from empty frequency set.\n",
            "  warnings.warn('Trying to estimate tuning from empty frequency set.')\n",
            " 32%|███▏      | 2788/8732 [38:21<1:28:19,  1.12it/s]/usr/local/lib/python3.6/dist-packages/librosa/core/pitch.py:145: UserWarning: Trying to estimate tuning from empty frequency set.\n",
            "  warnings.warn('Trying to estimate tuning from empty frequency set.')\n",
            " 32%|███▏      | 2789/8732 [38:21<1:26:40,  1.14it/s]/usr/local/lib/python3.6/dist-packages/librosa/core/pitch.py:145: UserWarning: Trying to estimate tuning from empty frequency set.\n",
            "  warnings.warn('Trying to estimate tuning from empty frequency set.')\n",
            " 32%|███▏      | 2790/8732 [38:22<1:26:28,  1.15it/s]/usr/local/lib/python3.6/dist-packages/librosa/core/pitch.py:145: UserWarning: Trying to estimate tuning from empty frequency set.\n",
            "  warnings.warn('Trying to estimate tuning from empty frequency set.')\n",
            " 32%|███▏      | 2791/8732 [38:23<1:25:30,  1.16it/s]/usr/local/lib/python3.6/dist-packages/librosa/core/pitch.py:145: UserWarning: Trying to estimate tuning from empty frequency set.\n",
            "  warnings.warn('Trying to estimate tuning from empty frequency set.')\n",
            " 32%|███▏      | 2792/8732 [38:24<1:24:45,  1.17it/s]/usr/local/lib/python3.6/dist-packages/librosa/core/pitch.py:145: UserWarning: Trying to estimate tuning from empty frequency set.\n",
            "  warnings.warn('Trying to estimate tuning from empty frequency set.')\n",
            " 32%|███▏      | 2793/8732 [38:25<1:24:45,  1.17it/s]/usr/local/lib/python3.6/dist-packages/librosa/core/pitch.py:145: UserWarning: Trying to estimate tuning from empty frequency set.\n",
            "  warnings.warn('Trying to estimate tuning from empty frequency set.')\n",
            " 32%|███▏      | 2794/8732 [38:26<1:25:26,  1.16it/s]/usr/local/lib/python3.6/dist-packages/librosa/core/pitch.py:145: UserWarning: Trying to estimate tuning from empty frequency set.\n",
            "  warnings.warn('Trying to estimate tuning from empty frequency set.')\n",
            " 32%|███▏      | 2795/8732 [38:27<1:24:58,  1.16it/s]/usr/local/lib/python3.6/dist-packages/librosa/core/pitch.py:145: UserWarning: Trying to estimate tuning from empty frequency set.\n",
            "  warnings.warn('Trying to estimate tuning from empty frequency set.')\n",
            " 34%|███▍      | 2981/8732 [41:34<58:40,  1.63it/s]  /usr/local/lib/python3.6/dist-packages/librosa/core/pitch.py:145: UserWarning: Trying to estimate tuning from empty frequency set.\n",
            "  warnings.warn('Trying to estimate tuning from empty frequency set.')\n",
            " 37%|███▋      | 3201/8732 [44:19<1:18:03,  1.18it/s]/usr/local/lib/python3.6/dist-packages/librosa/core/pitch.py:145: UserWarning: Trying to estimate tuning from empty frequency set.\n",
            "  warnings.warn('Trying to estimate tuning from empty frequency set.')\n",
            " 37%|███▋      | 3205/8732 [44:22<1:14:48,  1.23it/s]/usr/local/lib/python3.6/dist-packages/librosa/core/pitch.py:145: UserWarning: Trying to estimate tuning from empty frequency set.\n",
            "  warnings.warn('Trying to estimate tuning from empty frequency set.')\n",
            " 37%|███▋      | 3206/8732 [44:23<1:15:47,  1.22it/s]/usr/local/lib/python3.6/dist-packages/librosa/core/pitch.py:145: UserWarning: Trying to estimate tuning from empty frequency set.\n",
            "  warnings.warn('Trying to estimate tuning from empty frequency set.')\n",
            " 37%|███▋      | 3207/8732 [44:24<1:16:17,  1.21it/s]/usr/local/lib/python3.6/dist-packages/librosa/core/pitch.py:145: UserWarning: Trying to estimate tuning from empty frequency set.\n",
            "  warnings.warn('Trying to estimate tuning from empty frequency set.')\n",
            " 37%|███▋      | 3208/8732 [44:25<1:16:36,  1.20it/s]/usr/local/lib/python3.6/dist-packages/librosa/core/pitch.py:145: UserWarning: Trying to estimate tuning from empty frequency set.\n",
            "  warnings.warn('Trying to estimate tuning from empty frequency set.')\n",
            " 37%|███▋      | 3209/8732 [44:25<1:16:04,  1.21it/s]/usr/local/lib/python3.6/dist-packages/librosa/core/pitch.py:145: UserWarning: Trying to estimate tuning from empty frequency set.\n",
            "  warnings.warn('Trying to estimate tuning from empty frequency set.')\n",
            " 43%|████▎     | 3732/8732 [51:32<1:15:55,  1.10it/s]/usr/local/lib/python3.6/dist-packages/librosa/core/pitch.py:145: UserWarning: Trying to estimate tuning from empty frequency set.\n",
            "  warnings.warn('Trying to estimate tuning from empty frequency set.')\n",
            " 43%|████▎     | 3733/8732 [51:33<1:13:18,  1.14it/s]/usr/local/lib/python3.6/dist-packages/librosa/core/pitch.py:145: UserWarning: Trying to estimate tuning from empty frequency set.\n",
            "  warnings.warn('Trying to estimate tuning from empty frequency set.')\n",
            " 43%|████▎     | 3734/8732 [51:34<1:10:58,  1.17it/s]/usr/local/lib/python3.6/dist-packages/librosa/core/pitch.py:145: UserWarning: Trying to estimate tuning from empty frequency set.\n",
            "  warnings.warn('Trying to estimate tuning from empty frequency set.')\n",
            " 43%|████▎     | 3735/8732 [51:34<1:10:18,  1.18it/s]/usr/local/lib/python3.6/dist-packages/librosa/core/pitch.py:145: UserWarning: Trying to estimate tuning from empty frequency set.\n",
            "  warnings.warn('Trying to estimate tuning from empty frequency set.')\n",
            " 43%|████▎     | 3736/8732 [51:35<1:09:41,  1.19it/s]/usr/local/lib/python3.6/dist-packages/librosa/core/pitch.py:145: UserWarning: Trying to estimate tuning from empty frequency set.\n",
            "  warnings.warn('Trying to estimate tuning from empty frequency set.')\n",
            " 46%|████▋     | 4053/8732 [56:16<1:12:12,  1.08it/s]/usr/local/lib/python3.6/dist-packages/librosa/core/pitch.py:145: UserWarning: Trying to estimate tuning from empty frequency set.\n",
            "  warnings.warn('Trying to estimate tuning from empty frequency set.')\n",
            " 46%|████▋     | 4054/8732 [56:17<1:09:46,  1.12it/s]/usr/local/lib/python3.6/dist-packages/librosa/core/pitch.py:145: UserWarning: Trying to estimate tuning from empty frequency set.\n",
            "  warnings.warn('Trying to estimate tuning from empty frequency set.')\n",
            " 46%|████▋     | 4055/8732 [56:18<1:08:21,  1.14it/s]/usr/local/lib/python3.6/dist-packages/librosa/core/pitch.py:145: UserWarning: Trying to estimate tuning from empty frequency set.\n",
            "  warnings.warn('Trying to estimate tuning from empty frequency set.')\n",
            " 46%|████▋     | 4056/8732 [56:19<1:06:09,  1.18it/s]/usr/local/lib/python3.6/dist-packages/librosa/core/pitch.py:145: UserWarning: Trying to estimate tuning from empty frequency set.\n",
            "  warnings.warn('Trying to estimate tuning from empty frequency set.')\n",
            " 47%|████▋     | 4061/8732 [56:23<1:03:56,  1.22it/s]/usr/local/lib/python3.6/dist-packages/librosa/core/pitch.py:145: UserWarning: Trying to estimate tuning from empty frequency set.\n",
            "  warnings.warn('Trying to estimate tuning from empty frequency set.')\n",
            " 47%|████▋     | 4062/8732 [56:24<1:04:01,  1.22it/s]/usr/local/lib/python3.6/dist-packages/librosa/core/pitch.py:145: UserWarning: Trying to estimate tuning from empty frequency set.\n",
            "  warnings.warn('Trying to estimate tuning from empty frequency set.')\n",
            " 47%|████▋     | 4063/8732 [56:24<1:04:10,  1.21it/s]/usr/local/lib/python3.6/dist-packages/librosa/core/pitch.py:145: UserWarning: Trying to estimate tuning from empty frequency set.\n",
            "  warnings.warn('Trying to estimate tuning from empty frequency set.')\n",
            " 47%|████▋     | 4064/8732 [56:25<1:04:33,  1.20it/s]/usr/local/lib/python3.6/dist-packages/librosa/core/pitch.py:145: UserWarning: Trying to estimate tuning from empty frequency set.\n",
            "  warnings.warn('Trying to estimate tuning from empty frequency set.')\n",
            " 47%|████▋     | 4065/8732 [56:26<1:05:02,  1.20it/s]/usr/local/lib/python3.6/dist-packages/librosa/core/pitch.py:145: UserWarning: Trying to estimate tuning from empty frequency set.\n",
            "  warnings.warn('Trying to estimate tuning from empty frequency set.')\n",
            " 47%|████▋     | 4066/8732 [56:27<1:05:23,  1.19it/s]/usr/local/lib/python3.6/dist-packages/librosa/core/pitch.py:145: UserWarning: Trying to estimate tuning from empty frequency set.\n",
            "  warnings.warn('Trying to estimate tuning from empty frequency set.')\n",
            " 47%|████▋     | 4067/8732 [56:28<1:05:01,  1.20it/s]/usr/local/lib/python3.6/dist-packages/librosa/core/pitch.py:145: UserWarning: Trying to estimate tuning from empty frequency set.\n",
            "  warnings.warn('Trying to estimate tuning from empty frequency set.')\n",
            " 52%|█████▏    | 4567/8732 [1:03:39<54:05,  1.28it/s]/usr/local/lib/python3.6/dist-packages/librosa/core/pitch.py:145: UserWarning: Trying to estimate tuning from empty frequency set.\n",
            "  warnings.warn('Trying to estimate tuning from empty frequency set.')\n",
            " 52%|█████▏    | 4568/8732 [1:03:39<55:03,  1.26it/s]/usr/local/lib/python3.6/dist-packages/librosa/core/pitch.py:145: UserWarning: Trying to estimate tuning from empty frequency set.\n",
            "  warnings.warn('Trying to estimate tuning from empty frequency set.')\n",
            " 52%|█████▏    | 4569/8732 [1:03:40<54:36,  1.27it/s]/usr/local/lib/python3.6/dist-packages/librosa/core/pitch.py:145: UserWarning: Trying to estimate tuning from empty frequency set.\n",
            "  warnings.warn('Trying to estimate tuning from empty frequency set.')\n",
            " 52%|█████▏    | 4570/8732 [1:03:41<55:24,  1.25it/s]/usr/local/lib/python3.6/dist-packages/librosa/core/pitch.py:145: UserWarning: Trying to estimate tuning from empty frequency set.\n",
            "  warnings.warn('Trying to estimate tuning from empty frequency set.')\n",
            " 52%|█████▏    | 4571/8732 [1:03:42<54:58,  1.26it/s]/usr/local/lib/python3.6/dist-packages/librosa/core/pitch.py:145: UserWarning: Trying to estimate tuning from empty frequency set.\n",
            "  warnings.warn('Trying to estimate tuning from empty frequency set.')\n",
            " 53%|█████▎    | 4608/8732 [1:04:08<52:43,  1.30it/s]/usr/local/lib/python3.6/dist-packages/librosa/core/pitch.py:145: UserWarning: Trying to estimate tuning from empty frequency set.\n",
            "  warnings.warn('Trying to estimate tuning from empty frequency set.')\n",
            " 53%|█████▎    | 4609/8732 [1:04:09<53:49,  1.28it/s]/usr/local/lib/python3.6/dist-packages/librosa/core/pitch.py:145: UserWarning: Trying to estimate tuning from empty frequency set.\n",
            "  warnings.warn('Trying to estimate tuning from empty frequency set.')\n",
            " 58%|█████▊    | 5097/8732 [1:11:08<46:55,  1.29it/s]/usr/local/lib/python3.6/dist-packages/librosa/core/pitch.py:145: UserWarning: Trying to estimate tuning from empty frequency set.\n",
            "  warnings.warn('Trying to estimate tuning from empty frequency set.')\n",
            " 58%|█████▊    | 5101/8732 [1:11:11<40:15,  1.50it/s]/usr/local/lib/python3.6/dist-packages/librosa/core/pitch.py:145: UserWarning: Trying to estimate tuning from empty frequency set.\n",
            "  warnings.warn('Trying to estimate tuning from empty frequency set.')\n",
            " 58%|█████▊    | 5102/8732 [1:11:11<41:15,  1.47it/s]/usr/local/lib/python3.6/dist-packages/librosa/core/pitch.py:145: UserWarning: Trying to estimate tuning from empty frequency set.\n",
            "  warnings.warn('Trying to estimate tuning from empty frequency set.')\n",
            " 58%|█████▊    | 5103/8732 [1:11:12<42:10,  1.43it/s]/usr/local/lib/python3.6/dist-packages/librosa/core/pitch.py:145: UserWarning: Trying to estimate tuning from empty frequency set.\n",
            "  warnings.warn('Trying to estimate tuning from empty frequency set.')\n",
            " 58%|█████▊    | 5104/8732 [1:11:13<41:36,  1.45it/s]/usr/local/lib/python3.6/dist-packages/librosa/core/pitch.py:145: UserWarning: Trying to estimate tuning from empty frequency set.\n",
            "  warnings.warn('Trying to estimate tuning from empty frequency set.')\n",
            " 58%|█████▊    | 5105/8732 [1:11:14<41:33,  1.45it/s]/usr/local/lib/python3.6/dist-packages/librosa/core/pitch.py:145: UserWarning: Trying to estimate tuning from empty frequency set.\n",
            "  warnings.warn('Trying to estimate tuning from empty frequency set.')\n",
            " 58%|█████▊    | 5106/8732 [1:11:14<42:30,  1.42it/s]/usr/local/lib/python3.6/dist-packages/librosa/core/pitch.py:145: UserWarning: Trying to estimate tuning from empty frequency set.\n",
            "  warnings.warn('Trying to estimate tuning from empty frequency set.')\n",
            " 58%|█████▊    | 5108/8732 [1:11:16<41:28,  1.46it/s]/usr/local/lib/python3.6/dist-packages/librosa/core/pitch.py:145: UserWarning: Trying to estimate tuning from empty frequency set.\n",
            "  warnings.warn('Trying to estimate tuning from empty frequency set.')\n",
            " 59%|█████▉    | 5188/8732 [1:12:21<52:16,  1.13it/s]/usr/local/lib/python3.6/dist-packages/librosa/core/pitch.py:145: UserWarning: Trying to estimate tuning from empty frequency set.\n",
            "  warnings.warn('Trying to estimate tuning from empty frequency set.')\n",
            " 60%|█████▉    | 5196/8732 [1:12:28<53:59,  1.09it/s]/usr/local/lib/python3.6/dist-packages/librosa/core/pitch.py:145: UserWarning: Trying to estimate tuning from empty frequency set.\n",
            "  warnings.warn('Trying to estimate tuning from empty frequency set.')\n",
            " 63%|██████▎   | 5537/8732 [1:17:06<25:02,  2.13it/s]/usr/local/lib/python3.6/dist-packages/librosa/core/pitch.py:145: UserWarning: Trying to estimate tuning from empty frequency set.\n",
            "  warnings.warn('Trying to estimate tuning from empty frequency set.')\n",
            " 63%|██████▎   | 5538/8732 [1:17:06<29:57,  1.78it/s]/usr/local/lib/python3.6/dist-packages/librosa/core/pitch.py:145: UserWarning: Trying to estimate tuning from empty frequency set.\n",
            "  warnings.warn('Trying to estimate tuning from empty frequency set.')\n",
            " 63%|██████▎   | 5539/8732 [1:17:07<33:52,  1.57it/s]/usr/local/lib/python3.6/dist-packages/librosa/core/pitch.py:145: UserWarning: Trying to estimate tuning from empty frequency set.\n",
            "  warnings.warn('Trying to estimate tuning from empty frequency set.')\n",
            " 63%|██████▎   | 5540/8732 [1:17:08<35:46,  1.49it/s]/usr/local/lib/python3.6/dist-packages/librosa/core/pitch.py:145: UserWarning: Trying to estimate tuning from empty frequency set.\n",
            "  warnings.warn('Trying to estimate tuning from empty frequency set.')\n",
            " 64%|██████▍   | 5567/8732 [1:17:32<46:19,  1.14it/s]/usr/local/lib/python3.6/dist-packages/librosa/core/pitch.py:145: UserWarning: Trying to estimate tuning from empty frequency set.\n",
            "  warnings.warn('Trying to estimate tuning from empty frequency set.')\n",
            " 67%|██████▋   | 5892/8732 [1:21:34<24:46,  1.91it/s]/usr/local/lib/python3.6/dist-packages/librosa/core/pitch.py:145: UserWarning: Trying to estimate tuning from empty frequency set.\n",
            "  warnings.warn('Trying to estimate tuning from empty frequency set.')\n",
            " 67%|██████▋   | 5893/8732 [1:21:34<24:05,  1.96it/s]/usr/local/lib/python3.6/dist-packages/librosa/core/pitch.py:145: UserWarning: Trying to estimate tuning from empty frequency set.\n",
            "  warnings.warn('Trying to estimate tuning from empty frequency set.')\n",
            " 68%|██████▊   | 5895/8732 [1:21:35<25:13,  1.87it/s]/usr/local/lib/python3.6/dist-packages/librosa/core/pitch.py:145: UserWarning: Trying to estimate tuning from empty frequency set.\n",
            "  warnings.warn('Trying to estimate tuning from empty frequency set.')\n",
            " 68%|██████▊   | 5896/8732 [1:21:36<29:21,  1.61it/s]/usr/local/lib/python3.6/dist-packages/librosa/core/pitch.py:145: UserWarning: Trying to estimate tuning from empty frequency set.\n",
            "  warnings.warn('Trying to estimate tuning from empty frequency set.')\n",
            " 68%|██████▊   | 5897/8732 [1:21:37<31:37,  1.49it/s]/usr/local/lib/python3.6/dist-packages/librosa/core/pitch.py:145: UserWarning: Trying to estimate tuning from empty frequency set.\n",
            "  warnings.warn('Trying to estimate tuning from empty frequency set.')\n",
            " 68%|██████▊   | 5898/8732 [1:21:38<33:40,  1.40it/s]/usr/local/lib/python3.6/dist-packages/librosa/core/pitch.py:145: UserWarning: Trying to estimate tuning from empty frequency set.\n",
            "  warnings.warn('Trying to estimate tuning from empty frequency set.')\n",
            " 73%|███████▎  | 6345/8732 [1:27:03<32:59,  1.21it/s]/usr/local/lib/python3.6/dist-packages/librosa/core/pitch.py:145: UserWarning: Trying to estimate tuning from empty frequency set.\n",
            "  warnings.warn('Trying to estimate tuning from empty frequency set.')\n",
            " 73%|███████▎  | 6346/8732 [1:27:04<33:08,  1.20it/s]/usr/local/lib/python3.6/dist-packages/librosa/core/pitch.py:145: UserWarning: Trying to estimate tuning from empty frequency set.\n",
            "  warnings.warn('Trying to estimate tuning from empty frequency set.')\n",
            " 73%|███████▎  | 6347/8732 [1:27:05<33:11,  1.20it/s]/usr/local/lib/python3.6/dist-packages/librosa/core/pitch.py:145: UserWarning: Trying to estimate tuning from empty frequency set.\n",
            "  warnings.warn('Trying to estimate tuning from empty frequency set.')\n",
            " 73%|███████▎  | 6348/8732 [1:27:06<33:14,  1.20it/s]/usr/local/lib/python3.6/dist-packages/librosa/core/pitch.py:145: UserWarning: Trying to estimate tuning from empty frequency set.\n",
            "  warnings.warn('Trying to estimate tuning from empty frequency set.')\n",
            " 73%|███████▎  | 6349/8732 [1:27:07<33:37,  1.18it/s]/usr/local/lib/python3.6/dist-packages/librosa/core/pitch.py:145: UserWarning: Trying to estimate tuning from empty frequency set.\n",
            "  warnings.warn('Trying to estimate tuning from empty frequency set.')\n",
            " 73%|███████▎  | 6350/8732 [1:27:07<33:18,  1.19it/s]/usr/local/lib/python3.6/dist-packages/librosa/core/pitch.py:145: UserWarning: Trying to estimate tuning from empty frequency set.\n",
            "  warnings.warn('Trying to estimate tuning from empty frequency set.')\n",
            " 73%|███████▎  | 6351/8732 [1:27:08<33:48,  1.17it/s]/usr/local/lib/python3.6/dist-packages/librosa/core/pitch.py:145: UserWarning: Trying to estimate tuning from empty frequency set.\n",
            "  warnings.warn('Trying to estimate tuning from empty frequency set.')\n",
            " 73%|███████▎  | 6370/8732 [1:27:24<32:19,  1.22it/s]/usr/local/lib/python3.6/dist-packages/librosa/core/pitch.py:145: UserWarning: Trying to estimate tuning from empty frequency set.\n",
            "  warnings.warn('Trying to estimate tuning from empty frequency set.')\n",
            " 73%|███████▎  | 6373/8732 [1:27:27<32:29,  1.21it/s]/usr/local/lib/python3.6/dist-packages/librosa/core/pitch.py:145: UserWarning: Trying to estimate tuning from empty frequency set.\n",
            "  warnings.warn('Trying to estimate tuning from empty frequency set.')\n",
            " 74%|███████▍  | 6483/8732 [1:28:46<28:40,  1.31it/s]/usr/local/lib/python3.6/dist-packages/librosa/core/pitch.py:145: UserWarning: Trying to estimate tuning from empty frequency set.\n",
            "  warnings.warn('Trying to estimate tuning from empty frequency set.')\n",
            " 74%|███████▍  | 6484/8732 [1:28:47<28:47,  1.30it/s]/usr/local/lib/python3.6/dist-packages/librosa/core/pitch.py:145: UserWarning: Trying to estimate tuning from empty frequency set.\n",
            "  warnings.warn('Trying to estimate tuning from empty frequency set.')\n",
            " 75%|███████▍  | 6522/8732 [1:29:14<29:22,  1.25it/s]/usr/local/lib/python3.6/dist-packages/librosa/core/pitch.py:145: UserWarning: Trying to estimate tuning from empty frequency set.\n",
            "  warnings.warn('Trying to estimate tuning from empty frequency set.')\n",
            " 75%|███████▍  | 6529/8732 [1:29:20<29:36,  1.24it/s]/usr/local/lib/python3.6/dist-packages/librosa/core/pitch.py:145: UserWarning: Trying to estimate tuning from empty frequency set.\n",
            "  warnings.warn('Trying to estimate tuning from empty frequency set.')\n",
            " 77%|███████▋  | 6706/8732 [1:31:30<26:56,  1.25it/s]/usr/local/lib/python3.6/dist-packages/librosa/core/pitch.py:145: UserWarning: Trying to estimate tuning from empty frequency set.\n",
            "  warnings.warn('Trying to estimate tuning from empty frequency set.')\n",
            " 77%|███████▋  | 6707/8732 [1:31:31<26:45,  1.26it/s]/usr/local/lib/python3.6/dist-packages/librosa/core/pitch.py:145: UserWarning: Trying to estimate tuning from empty frequency set.\n",
            "  warnings.warn('Trying to estimate tuning from empty frequency set.')\n",
            " 77%|███████▋  | 6708/8732 [1:31:31<26:52,  1.25it/s]/usr/local/lib/python3.6/dist-packages/librosa/core/pitch.py:145: UserWarning: Trying to estimate tuning from empty frequency set.\n",
            "  warnings.warn('Trying to estimate tuning from empty frequency set.')\n",
            " 77%|███████▋  | 6709/8732 [1:31:32<26:38,  1.27it/s]/usr/local/lib/python3.6/dist-packages/librosa/core/pitch.py:145: UserWarning: Trying to estimate tuning from empty frequency set.\n",
            "  warnings.warn('Trying to estimate tuning from empty frequency set.')\n",
            " 77%|███████▋  | 6710/8732 [1:31:33<26:27,  1.27it/s]/usr/local/lib/python3.6/dist-packages/librosa/core/pitch.py:145: UserWarning: Trying to estimate tuning from empty frequency set.\n",
            "  warnings.warn('Trying to estimate tuning from empty frequency set.')\n",
            " 77%|███████▋  | 6711/8732 [1:31:34<26:56,  1.25it/s]/usr/local/lib/python3.6/dist-packages/librosa/core/pitch.py:145: UserWarning: Trying to estimate tuning from empty frequency set.\n",
            "  warnings.warn('Trying to estimate tuning from empty frequency set.')\n",
            " 79%|███████▊  | 6866/8732 [1:33:40<24:12,  1.29it/s]/usr/local/lib/python3.6/dist-packages/librosa/core/pitch.py:145: UserWarning: Trying to estimate tuning from empty frequency set.\n",
            "  warnings.warn('Trying to estimate tuning from empty frequency set.')\n",
            " 79%|███████▊  | 6867/8732 [1:33:40<24:02,  1.29it/s]/usr/local/lib/python3.6/dist-packages/librosa/core/pitch.py:145: UserWarning: Trying to estimate tuning from empty frequency set.\n",
            "  warnings.warn('Trying to estimate tuning from empty frequency set.')\n",
            " 79%|███████▊  | 6868/8732 [1:33:41<24:08,  1.29it/s]/usr/local/lib/python3.6/dist-packages/librosa/core/pitch.py:145: UserWarning: Trying to estimate tuning from empty frequency set.\n",
            "  warnings.warn('Trying to estimate tuning from empty frequency set.')\n",
            " 80%|████████  | 7008/8732 [1:35:28<22:35,  1.27it/s]/usr/local/lib/python3.6/dist-packages/librosa/core/pitch.py:145: UserWarning: Trying to estimate tuning from empty frequency set.\n",
            "  warnings.warn('Trying to estimate tuning from empty frequency set.')\n",
            " 80%|████████  | 7009/8732 [1:35:29<22:18,  1.29it/s]/usr/local/lib/python3.6/dist-packages/librosa/core/pitch.py:145: UserWarning: Trying to estimate tuning from empty frequency set.\n",
            "  warnings.warn('Trying to estimate tuning from empty frequency set.')\n",
            " 84%|████████▍ | 7349/8732 [1:39:41<15:11,  1.52it/s]/usr/local/lib/python3.6/dist-packages/librosa/core/pitch.py:145: UserWarning: Trying to estimate tuning from empty frequency set.\n",
            "  warnings.warn('Trying to estimate tuning from empty frequency set.')\n",
            " 84%|████████▍ | 7350/8732 [1:39:42<15:47,  1.46it/s]/usr/local/lib/python3.6/dist-packages/librosa/core/pitch.py:145: UserWarning: Trying to estimate tuning from empty frequency set.\n",
            "  warnings.warn('Trying to estimate tuning from empty frequency set.')\n",
            " 84%|████████▍ | 7351/8732 [1:39:42<16:13,  1.42it/s]/usr/local/lib/python3.6/dist-packages/librosa/core/pitch.py:145: UserWarning: Trying to estimate tuning from empty frequency set.\n",
            "  warnings.warn('Trying to estimate tuning from empty frequency set.')\n",
            " 84%|████████▍ | 7352/8732 [1:39:43<16:21,  1.41it/s]/usr/local/lib/python3.6/dist-packages/librosa/core/pitch.py:145: UserWarning: Trying to estimate tuning from empty frequency set.\n",
            "  warnings.warn('Trying to estimate tuning from empty frequency set.')\n",
            " 84%|████████▍ | 7353/8732 [1:39:44<16:41,  1.38it/s]/usr/local/lib/python3.6/dist-packages/librosa/core/pitch.py:145: UserWarning: Trying to estimate tuning from empty frequency set.\n",
            "  warnings.warn('Trying to estimate tuning from empty frequency set.')\n",
            " 91%|█████████ | 7938/8732 [1:46:54<05:53,  2.25it/s]/usr/local/lib/python3.6/dist-packages/librosa/core/pitch.py:145: UserWarning: Trying to estimate tuning from empty frequency set.\n",
            "  warnings.warn('Trying to estimate tuning from empty frequency set.')\n",
            " 91%|█████████ | 7940/8732 [1:46:54<05:03,  2.61it/s]/usr/local/lib/python3.6/dist-packages/librosa/core/pitch.py:145: UserWarning: Trying to estimate tuning from empty frequency set.\n",
            "  warnings.warn('Trying to estimate tuning from empty frequency set.')\n",
            " 91%|█████████ | 7942/8732 [1:46:55<04:45,  2.77it/s]/usr/local/lib/python3.6/dist-packages/librosa/core/pitch.py:145: UserWarning: Trying to estimate tuning from empty frequency set.\n",
            "  warnings.warn('Trying to estimate tuning from empty frequency set.')\n",
            " 91%|█████████▏| 7980/8732 [1:47:25<12:06,  1.04it/s]/usr/local/lib/python3.6/dist-packages/librosa/core/pitch.py:145: UserWarning: Trying to estimate tuning from empty frequency set.\n",
            "  warnings.warn('Trying to estimate tuning from empty frequency set.')\n",
            " 96%|█████████▌| 8375/8732 [1:52:04<04:18,  1.38it/s]/usr/local/lib/python3.6/dist-packages/librosa/core/pitch.py:145: UserWarning: Trying to estimate tuning from empty frequency set.\n",
            "  warnings.warn('Trying to estimate tuning from empty frequency set.')\n",
            " 96%|█████████▌| 8397/8732 [1:52:22<04:11,  1.33it/s]/usr/local/lib/python3.6/dist-packages/librosa/core/pitch.py:145: UserWarning: Trying to estimate tuning from empty frequency set.\n",
            "  warnings.warn('Trying to estimate tuning from empty frequency set.')\n",
            " 96%|█████████▋| 8418/8732 [1:52:35<03:55,  1.33it/s]/usr/local/lib/python3.6/dist-packages/librosa/core/pitch.py:145: UserWarning: Trying to estimate tuning from empty frequency set.\n",
            "  warnings.warn('Trying to estimate tuning from empty frequency set.')\n",
            " 96%|█████████▋| 8419/8732 [1:52:35<03:58,  1.31it/s]/usr/local/lib/python3.6/dist-packages/librosa/core/pitch.py:145: UserWarning: Trying to estimate tuning from empty frequency set.\n",
            "  warnings.warn('Trying to estimate tuning from empty frequency set.')\n",
            " 96%|█████████▋| 8420/8732 [1:52:36<03:58,  1.31it/s]/usr/local/lib/python3.6/dist-packages/librosa/core/pitch.py:145: UserWarning: Trying to estimate tuning from empty frequency set.\n",
            "  warnings.warn('Trying to estimate tuning from empty frequency set.')\n",
            " 96%|█████████▋| 8421/8732 [1:52:37<03:57,  1.31it/s]/usr/local/lib/python3.6/dist-packages/librosa/core/pitch.py:145: UserWarning: Trying to estimate tuning from empty frequency set.\n",
            "  warnings.warn('Trying to estimate tuning from empty frequency set.')\n",
            " 98%|█████████▊| 8531/8732 [1:53:59<02:34,  1.30it/s]/usr/local/lib/python3.6/dist-packages/librosa/core/pitch.py:145: UserWarning: Trying to estimate tuning from empty frequency set.\n",
            "  warnings.warn('Trying to estimate tuning from empty frequency set.')\n",
            " 98%|█████████▊| 8532/8732 [1:54:00<02:31,  1.32it/s]/usr/local/lib/python3.6/dist-packages/librosa/core/pitch.py:145: UserWarning: Trying to estimate tuning from empty frequency set.\n",
            "  warnings.warn('Trying to estimate tuning from empty frequency set.')\n",
            "100%|██████████| 8732/8732 [1:56:23<00:00,  1.56it/s]\n"
          ],
          "name": "stderr"
        }
      ]
    },
    {
      "cell_type": "code",
      "metadata": {
        "id": "7b5GScD0zMSc",
        "colab_type": "code",
        "colab": {
          "base_uri": "https://localhost:8080/",
          "height": 34
        },
        "outputId": "f9a8959d-ae2e-4954-e249-64538291fc87"
      },
      "source": [
        "#Converting the lists into numpy arrays\n",
        "Xtrain=np.array(x_train)\n",
        "Xtest=np.array(x_test)\n",
        "ytrain=np.array(y_train)\n",
        "ytest=np.array(y_test)\n",
        "print(Xtrain.shape,Xtest.shape,ytrain.shape,ytest.shape)"
      ],
      "execution_count": 54,
      "outputs": [
        {
          "output_type": "stream",
          "text": [
            "(7895, 40, 5) (837, 40, 5) (7895,) (837,)\n"
          ],
          "name": "stdout"
        }
      ]
    },
    {
      "cell_type": "code",
      "metadata": {
        "id": "WhdjBLUUpdVK",
        "colab_type": "code",
        "colab": {}
      },
      "source": [
        "#Export the train and test numpy arrays to a csv file\n",
        "np.savetxt(\"train_data.csv\", Xtrain2d, delimiter=\",\")\n",
        "np.savetxt(\"test_data.csv\",Xtest2d,delimiter=\",\")\n",
        "np.savetxt(\"train_labels.csv\",y_train,delimiter=\",\")\n",
        "np.savetxt(\"test_labels.csv\",y_test,delimiter=\",\")"
      ],
      "execution_count": 0,
      "outputs": []
    },
    {
      "cell_type": "code",
      "metadata": {
        "id": "E1n8kkcDfNA8",
        "colab_type": "code",
        "colab": {
          "base_uri": "https://localhost:8080/",
          "height": 34
        },
        "outputId": "dbaac1ff-6716-4b3b-dbcc-f5b868592cfe"
      },
      "source": [
        "#extracting data from csv files into numpy arrays\n",
        "from numpy import genfromtxt\n",
        "x_train1 = genfromtxt('train_data.csv', delimiter=',')\n",
        "y_train1 = genfromtxt('train_labels.csv', delimiter=',')\n",
        "x_test1 = genfromtxt('test_data.csv', delimiter=',')\n",
        "y_test1 = genfromtxt('test_labels.csv', delimiter=',')\n",
        "x_train1.shape,x_test1.shape,y_train1.shape,y_test1.shape"
      ],
      "execution_count": 64,
      "outputs": [
        {
          "output_type": "execute_result",
          "data": {
            "text/plain": [
              "((7895, 200), (837, 200), (7895,), (837,))"
            ]
          },
          "metadata": {
            "tags": []
          },
          "execution_count": 64
        }
      ]
    },
    {
      "cell_type": "code",
      "metadata": {
        "id": "vG-C6J2-qWvO",
        "colab_type": "code",
        "colab": {
          "base_uri": "https://localhost:8080/",
          "height": 34
        },
        "outputId": "f952d0e9-a735-4b8b-b6ea-1b7c9f0fe9d0"
      },
      "source": [
        "#One hot encoding of the output class\n",
        "y_train1 = to_categorical(y_train1, num_classes=10)\n",
        "y_test1 = to_categorical(y_test1, num_classes=10)\n",
        "print(y_train1.shape,y_test1.shape)"
      ],
      "execution_count": 65,
      "outputs": [
        {
          "output_type": "stream",
          "text": [
            "(7895, 10) (837, 10)\n"
          ],
          "name": "stdout"
        }
      ]
    },
    {
      "cell_type": "code",
      "metadata": {
        "id": "4pKUPPZ1kcBk",
        "colab_type": "code",
        "colab": {
          "base_uri": "https://localhost:8080/",
          "height": 34
        },
        "outputId": "b169fbf8-4a07-48a6-eba7-04a6cf84b303"
      },
      "source": [
        "#Reshaping into 2d to save in csv format\n",
        "x_train1=np.reshape(x_train1,(x_train1.shape[0], 40,5))\n",
        "x_test1=np.reshape(x_test1,(x_test1.shape[0], 40,5))\n",
        "x_train1.shape,x_test1.shape"
      ],
      "execution_count": 66,
      "outputs": [
        {
          "output_type": "execute_result",
          "data": {
            "text/plain": [
              "((7895, 40, 5), (837, 40, 5))"
            ]
          },
          "metadata": {
            "tags": []
          },
          "execution_count": 66
        }
      ]
    },
    {
      "cell_type": "code",
      "metadata": {
        "id": "cRNc8AY4zWKO",
        "colab_type": "code",
        "colab": {
          "base_uri": "https://localhost:8080/",
          "height": 34
        },
        "outputId": "5662030e-b701-43de-bbc6-d08686c3674f"
      },
      "source": [
        "#reshaping to shape required by CNN\n",
        "x_train1=np.reshape(x_train1,(x_train1.shape[0], 40,5,1))\n",
        "x_test1=np.reshape(x_test1,(x_test1.shape[0], 40,5,1))\n",
        "print(x_train1.shape,x_test1.shape)"
      ],
      "execution_count": 68,
      "outputs": [
        {
          "output_type": "stream",
          "text": [
            "(7895, 40, 5, 1) (837, 40, 5, 1)\n"
          ],
          "name": "stdout"
        }
      ]
    },
    {
      "cell_type": "markdown",
      "metadata": {
        "id": "1Bf6onUh1bHo",
        "colab_type": "text"
      },
      "source": [
        "# **Building a Convolutional neural network**"
      ]
    },
    {
      "cell_type": "code",
      "metadata": {
        "id": "v3aa7xSC04x6",
        "colab_type": "code",
        "colab": {
          "base_uri": "https://localhost:8080/",
          "height": 689
        },
        "outputId": "2a321863-21f0-49b6-9940-3de05e6bb359"
      },
      "source": [
        "from keras.layers import Dense, Activation, Flatten, Dropout, BatchNormalization\n",
        "from keras.models import Sequential, Model\n",
        "from keras.layers import Conv2D, MaxPooling2D\n",
        "from keras import regularizers, optimizers\n",
        "\n",
        "\n",
        "model = Sequential()\n",
        "model.add(Conv2D(64,kernel_size=5,strides=1,padding=\"same\",activation=\"relu\",input_shape=(40,5,1)))\n",
        "model.add(MaxPooling2D(padding=\"same\"))\n",
        "\n",
        "model.add(Conv2D(128,kernel_size=5,strides=1,padding=\"same\",activation=\"relu\"))\n",
        "model.add(MaxPooling2D(padding=\"same\"))\n",
        "model.add(Dropout(0.25))\n",
        "\n",
        "model.add(Conv2D(256,kernel_size=5,strides=1,padding=\"same\",activation=\"relu\"))\n",
        "model.add(MaxPooling2D(padding=\"same\"))\n",
        "model.add(Dropout(0.25))\n",
        "\n",
        "model.add(Flatten())\n",
        "\n",
        "model.add(Dense(512,activation=\"relu\"))\n",
        "model.add(Dropout(0.25))\n",
        "\n",
        "model.add(Dense(256,activation=\"relu\"))\n",
        "model.add(Dropout(0.25))\n",
        "\n",
        "model.add(Dense(128,activation=\"relu\"))\n",
        "model.add(Dropout(0.25))\n",
        "\n",
        "model.add(Dense(10,activation=\"softmax\"))\n",
        "\n",
        "model.compile(optimizer='adam',loss=\"categorical_crossentropy\",metrics=[\"accuracy\"])\n",
        "model.summary()"
      ],
      "execution_count": 71,
      "outputs": [
        {
          "output_type": "stream",
          "text": [
            "Model: \"sequential_8\"\n",
            "_________________________________________________________________\n",
            "Layer (type)                 Output Shape              Param #   \n",
            "=================================================================\n",
            "conv2d_18 (Conv2D)           (None, 40, 5, 64)         1664      \n",
            "_________________________________________________________________\n",
            "max_pooling2d_16 (MaxPooling (None, 20, 3, 64)         0         \n",
            "_________________________________________________________________\n",
            "conv2d_19 (Conv2D)           (None, 20, 3, 128)        204928    \n",
            "_________________________________________________________________\n",
            "max_pooling2d_17 (MaxPooling (None, 10, 2, 128)        0         \n",
            "_________________________________________________________________\n",
            "dropout_24 (Dropout)         (None, 10, 2, 128)        0         \n",
            "_________________________________________________________________\n",
            "conv2d_20 (Conv2D)           (None, 10, 2, 256)        819456    \n",
            "_________________________________________________________________\n",
            "max_pooling2d_18 (MaxPooling (None, 5, 1, 256)         0         \n",
            "_________________________________________________________________\n",
            "dropout_25 (Dropout)         (None, 5, 1, 256)         0         \n",
            "_________________________________________________________________\n",
            "flatten_8 (Flatten)          (None, 1280)              0         \n",
            "_________________________________________________________________\n",
            "dense_22 (Dense)             (None, 512)               655872    \n",
            "_________________________________________________________________\n",
            "dropout_26 (Dropout)         (None, 512)               0         \n",
            "_________________________________________________________________\n",
            "dense_23 (Dense)             (None, 256)               131328    \n",
            "_________________________________________________________________\n",
            "dropout_27 (Dropout)         (None, 256)               0         \n",
            "_________________________________________________________________\n",
            "dense_24 (Dense)             (None, 128)               32896     \n",
            "_________________________________________________________________\n",
            "dropout_28 (Dropout)         (None, 128)               0         \n",
            "_________________________________________________________________\n",
            "dense_25 (Dense)             (None, 10)                1290      \n",
            "=================================================================\n",
            "Total params: 1,847,434\n",
            "Trainable params: 1,847,434\n",
            "Non-trainable params: 0\n",
            "_________________________________________________________________\n"
          ],
          "name": "stdout"
        }
      ]
    },
    {
      "cell_type": "code",
      "metadata": {
        "id": "YiJq1zzh1l1w",
        "colab_type": "code",
        "colab": {
          "base_uri": "https://localhost:8080/",
          "height": 1000
        },
        "outputId": "b15e81e3-8b23-4a26-b7c1-0c786f09ac40"
      },
      "source": [
        "#Fitting the model with the train data\n",
        "history = model.fit(x_train1,y_train1,batch_size=50,epochs=50,validation_data=(x_test1,y_test1))"
      ],
      "execution_count": 77,
      "outputs": [
        {
          "output_type": "stream",
          "text": [
            "Train on 7895 samples, validate on 837 samples\n",
            "Epoch 1/50\n",
            "7895/7895 [==============================] - 3s 400us/step - loss: 0.1621 - acc: 0.9560 - val_loss: 1.5010 - val_acc: 0.6738\n",
            "Epoch 2/50\n",
            "7895/7895 [==============================] - 3s 392us/step - loss: 0.1559 - acc: 0.9593 - val_loss: 1.4580 - val_acc: 0.6906\n",
            "Epoch 3/50\n",
            "7895/7895 [==============================] - 3s 383us/step - loss: 0.1923 - acc: 0.9498 - val_loss: 1.2505 - val_acc: 0.7001\n",
            "Epoch 4/50\n",
            "7895/7895 [==============================] - 3s 385us/step - loss: 0.1646 - acc: 0.9544 - val_loss: 1.6699 - val_acc: 0.6882\n",
            "Epoch 5/50\n",
            "7895/7895 [==============================] - 3s 388us/step - loss: 0.1613 - acc: 0.9548 - val_loss: 1.4110 - val_acc: 0.7001\n",
            "Epoch 6/50\n",
            "7895/7895 [==============================] - 3s 384us/step - loss: 0.0952 - acc: 0.9721 - val_loss: 1.2418 - val_acc: 0.7276\n",
            "Epoch 7/50\n",
            "7895/7895 [==============================] - 3s 386us/step - loss: 0.1130 - acc: 0.9678 - val_loss: 1.6817 - val_acc: 0.6894\n",
            "Epoch 8/50\n",
            "7895/7895 [==============================] - 3s 386us/step - loss: 0.1152 - acc: 0.9683 - val_loss: 1.6186 - val_acc: 0.6571\n",
            "Epoch 9/50\n",
            "7895/7895 [==============================] - 3s 386us/step - loss: 0.0987 - acc: 0.9742 - val_loss: 1.5223 - val_acc: 0.7168\n",
            "Epoch 10/50\n",
            "7895/7895 [==============================] - 3s 384us/step - loss: 0.0917 - acc: 0.9754 - val_loss: 1.2713 - val_acc: 0.7192\n",
            "Epoch 11/50\n",
            "7895/7895 [==============================] - 3s 377us/step - loss: 0.0855 - acc: 0.9740 - val_loss: 1.4724 - val_acc: 0.7025\n",
            "Epoch 12/50\n",
            "7895/7895 [==============================] - 3s 383us/step - loss: 0.0760 - acc: 0.9773 - val_loss: 1.5280 - val_acc: 0.7037\n",
            "Epoch 13/50\n",
            "7895/7895 [==============================] - 3s 382us/step - loss: 0.1025 - acc: 0.9725 - val_loss: 1.4006 - val_acc: 0.6989\n",
            "Epoch 14/50\n",
            "7895/7895 [==============================] - 3s 381us/step - loss: 0.0898 - acc: 0.9771 - val_loss: 1.3899 - val_acc: 0.7168\n",
            "Epoch 15/50\n",
            "7895/7895 [==============================] - 3s 382us/step - loss: 0.1016 - acc: 0.9714 - val_loss: 1.3903 - val_acc: 0.7228\n",
            "Epoch 16/50\n",
            "7895/7895 [==============================] - 3s 378us/step - loss: 0.1194 - acc: 0.9685 - val_loss: 1.3333 - val_acc: 0.7001\n",
            "Epoch 17/50\n",
            "7895/7895 [==============================] - 3s 375us/step - loss: 0.1420 - acc: 0.9628 - val_loss: 1.6668 - val_acc: 0.6953\n",
            "Epoch 18/50\n",
            "7895/7895 [==============================] - 3s 375us/step - loss: 0.1380 - acc: 0.9617 - val_loss: 1.5780 - val_acc: 0.6965\n",
            "Epoch 19/50\n",
            "7895/7895 [==============================] - 3s 379us/step - loss: 0.1404 - acc: 0.9598 - val_loss: 1.9934 - val_acc: 0.6667\n",
            "Epoch 20/50\n",
            "7895/7895 [==============================] - 3s 376us/step - loss: 0.1193 - acc: 0.9685 - val_loss: 1.8474 - val_acc: 0.6822\n",
            "Epoch 21/50\n",
            "7895/7895 [==============================] - 3s 380us/step - loss: 0.1599 - acc: 0.9615 - val_loss: 1.5244 - val_acc: 0.7121\n",
            "Epoch 22/50\n",
            "7895/7895 [==============================] - 3s 377us/step - loss: 0.1744 - acc: 0.9568 - val_loss: 1.5575 - val_acc: 0.6738\n",
            "Epoch 23/50\n",
            "7895/7895 [==============================] - 3s 381us/step - loss: 0.1529 - acc: 0.9624 - val_loss: 1.4391 - val_acc: 0.7001\n",
            "Epoch 24/50\n",
            "7895/7895 [==============================] - 3s 382us/step - loss: 0.1170 - acc: 0.9686 - val_loss: 1.6982 - val_acc: 0.6726\n",
            "Epoch 25/50\n",
            "7895/7895 [==============================] - 3s 375us/step - loss: 0.0877 - acc: 0.9780 - val_loss: 1.5770 - val_acc: 0.7085\n",
            "Epoch 26/50\n",
            "7895/7895 [==============================] - 3s 379us/step - loss: 0.0955 - acc: 0.9749 - val_loss: 1.5918 - val_acc: 0.7001\n",
            "Epoch 27/50\n",
            "7895/7895 [==============================] - 3s 377us/step - loss: 0.1135 - acc: 0.9690 - val_loss: 1.7745 - val_acc: 0.6941\n",
            "Epoch 28/50\n",
            "7895/7895 [==============================] - 3s 375us/step - loss: 0.0995 - acc: 0.9747 - val_loss: 1.6201 - val_acc: 0.7025\n",
            "Epoch 29/50\n",
            "7895/7895 [==============================] - 3s 374us/step - loss: 0.0981 - acc: 0.9743 - val_loss: 1.9022 - val_acc: 0.6930\n",
            "Epoch 30/50\n",
            "7895/7895 [==============================] - 3s 376us/step - loss: 0.1203 - acc: 0.9682 - val_loss: 1.5102 - val_acc: 0.7049\n",
            "Epoch 31/50\n",
            "7895/7895 [==============================] - 3s 373us/step - loss: 0.1216 - acc: 0.9677 - val_loss: 1.6019 - val_acc: 0.7049\n",
            "Epoch 32/50\n",
            "7895/7895 [==============================] - 3s 375us/step - loss: 0.1022 - acc: 0.9729 - val_loss: 1.4901 - val_acc: 0.7073\n",
            "Epoch 33/50\n",
            "7895/7895 [==============================] - 3s 377us/step - loss: 0.1565 - acc: 0.9623 - val_loss: 1.5037 - val_acc: 0.6941\n",
            "Epoch 34/50\n",
            "7895/7895 [==============================] - 3s 374us/step - loss: 0.1484 - acc: 0.9629 - val_loss: 1.4960 - val_acc: 0.6870\n",
            "Epoch 35/50\n",
            "7895/7895 [==============================] - 3s 376us/step - loss: 0.1297 - acc: 0.9692 - val_loss: 1.8880 - val_acc: 0.6619\n",
            "Epoch 36/50\n",
            "7895/7895 [==============================] - 3s 374us/step - loss: 0.1572 - acc: 0.9642 - val_loss: 1.3498 - val_acc: 0.7025\n",
            "Epoch 37/50\n",
            "7895/7895 [==============================] - 3s 383us/step - loss: 0.1150 - acc: 0.9737 - val_loss: 1.5789 - val_acc: 0.6882\n",
            "Epoch 38/50\n",
            "7895/7895 [==============================] - 3s 374us/step - loss: 0.1362 - acc: 0.9658 - val_loss: 1.6760 - val_acc: 0.6965\n",
            "Epoch 39/50\n",
            "7895/7895 [==============================] - 3s 380us/step - loss: 0.1149 - acc: 0.9725 - val_loss: 1.6571 - val_acc: 0.6822\n",
            "Epoch 40/50\n",
            "7895/7895 [==============================] - 3s 375us/step - loss: 0.1220 - acc: 0.9711 - val_loss: 1.7542 - val_acc: 0.6798\n",
            "Epoch 41/50\n",
            "7895/7895 [==============================] - 3s 377us/step - loss: 0.1273 - acc: 0.9695 - val_loss: 1.9887 - val_acc: 0.6703\n",
            "Epoch 42/50\n",
            "7895/7895 [==============================] - 3s 378us/step - loss: 0.1253 - acc: 0.9668 - val_loss: 1.8769 - val_acc: 0.6786\n",
            "Epoch 43/50\n",
            "7895/7895 [==============================] - 3s 376us/step - loss: 0.1198 - acc: 0.9687 - val_loss: 1.7157 - val_acc: 0.6858\n",
            "Epoch 44/50\n",
            "7895/7895 [==============================] - 3s 379us/step - loss: 0.1039 - acc: 0.9716 - val_loss: 1.4869 - val_acc: 0.7061\n",
            "Epoch 45/50\n",
            "7895/7895 [==============================] - 3s 376us/step - loss: 0.1115 - acc: 0.9683 - val_loss: 1.6430 - val_acc: 0.7168\n",
            "Epoch 46/50\n",
            "7895/7895 [==============================] - 3s 377us/step - loss: 0.1238 - acc: 0.9676 - val_loss: 1.5673 - val_acc: 0.7085\n",
            "Epoch 47/50\n",
            "7895/7895 [==============================] - 3s 380us/step - loss: 0.1154 - acc: 0.9709 - val_loss: 1.8730 - val_acc: 0.6762\n",
            "Epoch 48/50\n",
            "7895/7895 [==============================] - 3s 374us/step - loss: 0.0937 - acc: 0.9758 - val_loss: 1.4606 - val_acc: 0.7085\n",
            "Epoch 49/50\n",
            "7895/7895 [==============================] - 3s 372us/step - loss: 0.1427 - acc: 0.9659 - val_loss: 1.5214 - val_acc: 0.7109\n",
            "Epoch 50/50\n",
            "7895/7895 [==============================] - 3s 377us/step - loss: 0.1566 - acc: 0.9650 - val_loss: 1.5717 - val_acc: 0.7133\n"
          ],
          "name": "stdout"
        }
      ]
    },
    {
      "cell_type": "code",
      "metadata": {
        "id": "0w30yU935glx",
        "colab_type": "code",
        "colab": {
          "base_uri": "https://localhost:8080/",
          "height": 50
        },
        "outputId": "9f508148-2cc8-41d7-e225-ac256d783caa"
      },
      "source": [
        "score = model.evaluate(x_test1, y_test1, verbose=0)\n",
        "print('Test score:', score[0])\n",
        "print('Test accuracy:', score[1])"
      ],
      "execution_count": 78,
      "outputs": [
        {
          "output_type": "stream",
          "text": [
            "Test score: 1.571681703076995\n",
            "Test accuracy: 0.7132616487455197\n"
          ],
          "name": "stdout"
        }
      ]
    },
    {
      "cell_type": "code",
      "metadata": {
        "id": "xZ8gQV7XovN7",
        "colab_type": "code",
        "colab": {}
      },
      "source": [
        "y_pred = model.predict_classes(x_test1)"
      ],
      "execution_count": 0,
      "outputs": []
    },
    {
      "cell_type": "code",
      "metadata": {
        "id": "1sMDUZw0qE1T",
        "colab_type": "code",
        "colab": {
          "base_uri": "https://localhost:8080/",
          "height": 420
        },
        "outputId": "7ee80f92-9251-48a5-d347-8cfffcf5982d"
      },
      "source": [
        "print(\"Predicted classes of the test audio clips: \\n\",y_pred)"
      ],
      "execution_count": 89,
      "outputs": [
        {
          "output_type": "stream",
          "text": [
            "Predicted classes of the test audio clips: \n",
            " [9 9 1 1 1 3 3 3 3 3 2 2 2 2 2 2 3 9 9 5 5 5 5 5 5 5 5 5 5 5 5 5 5 5 5 5 5\n",
            " 5 5 5 5 5 5 5 5 5 5 5 5 5 5 5 7 5 5 7 7 5 9 2 9 9 9 9 1 9 9 9 9 9 9 3 3 9\n",
            " 9 9 9 9 9 8 8 3 3 3 8 8 3 8 7 3 3 9 9 5 5 5 5 5 5 5 5 5 5 0 0 0 3 3 2 2 3\n",
            " 2 3 3 2 2 2 2 2 2 2 2 2 9 2 8 9 9 9 9 0 9 9 9 5 5 9 3 3 3 3 2 2 2 2 2 2 2\n",
            " 3 4 9 9 5 9 9 9 9 9 9 9 9 9 2 2 2 2 2 2 2 2 2 2 2 2 2 2 2 2 3 3 3 3 3 3 3\n",
            " 3 3 3 3 3 3 3 9 3 3 3 3 9 9 6 6 6 6 6 6 6 6 6 6 6 6 6 8 8 8 8 8 8 8 8 8 8\n",
            " 8 8 8 8 8 7 7 7 4 7 4 4 4 4 7 7 4 4 4 7 4 4 7 7 7 7 7 7 4 7 4 4 4 4 7 7 4\n",
            " 7 7 7 4 7 7 7 7 7 7 7 4 4 4 4 4 4 4 4 7 7 7 4 7 4 7 7 4 4 3 3 2 2 2 2 2 2\n",
            " 2 2 9 9 9 9 9 9 9 6 8 8 8 8 8 8 8 8 3 4 4 5 2 2 2 2 7 7 0 2 9 0 0 9 2 0 0\n",
            " 2 2 0 2 2 0 7 7 0 0 6 4 2 4 6 2 1 2 2 2 2 2 2 2 9 9 9 9 9 9 6 6 6 6 6 6 6\n",
            " 3 3 3 7 1 7 7 7 7 7 7 7 7 7 7 1 2 2 2 2 2 2 2 2 1 5 4 4 4 4 4 5 5 5 4 5 5\n",
            " 4 5 5 4 4 4 4 4 4 4 4 4 4 4 4 4 4 4 4 4 4 2 2 2 2 2 2 2 8 3 3 4 4 4 4 8 2\n",
            " 8 8 2 2 2 2 7 7 7 7 7 7 7 7 7 7 7 7 7 7 7 7 7 7 0 0 0 0 0 0 0 0 0 0 0 0 0\n",
            " 0 0 0 0 0 1 0 0 0 0 0 7 7 0 0 0 1 0 0 4 4 2 2 2 2 3 3 3 3 3 2 2 2 2 2 2 2\n",
            " 2 3 3 3 3 6 6 6 6 6 6 9 7 7 7 7 9 2 9 9 9 9 9 4 9 1 9 9 9 9 6 4 4 2 2 2 2\n",
            " 2 2 2 2 9 9 1 1 3 3 3 3 2 2 2 5 1 1 3 2 8 1 2 3 3 1 4 5 2 5 3 3 5 5 1 1 1\n",
            " 1 1 1 1 1 1 1 1 1 1 1 1 3 3 3 3 2 2 2 3 2 3 3 3 5 5 5 5 5 5 5 5 5 5 5 5 5\n",
            " 5 3 3 2 9 3 3 9 1 1 1 3 3 3 3 5 5 3 2 3 6 3 2 2 2 2 3 3 3 3 3 3 3 0 0 0 0\n",
            " 0 0 0 0 0 0 0 0 0 0 0 0 0 0 0 0 0 0 0 0 0 0 2 2 2 2 2 2 2 8 3 2 2 2 9 9 3\n",
            " 3 2 9 9 2 2 3 3 2 2 9 2 2 9 0 0 4 4 9 3 3 9 9 9 9 9 9 4 8 8 9 9 3 3 3 3 3\n",
            " 5 9 5 3 3 3 9 9 9 3 9 9 9 9 9 9 9 9 2 2 2 2 2 2 0 2 2 0 0 2 2 2 1 9 9 9 9\n",
            " 9 2 3 2 3 3 8 3 2 2 2 5 8 8 8 8 8 8 8 8 8 8 8 8 8 8 8 8 8 8 8 8 3 4 9 4 4\n",
            " 4 4 4 4 4 4 4 4 4 4 4 4 4 4 4 4 4 4 4 4 4 4 4]\n"
          ],
          "name": "stdout"
        }
      ]
    },
    {
      "cell_type": "code",
      "metadata": {
        "id": "SMs0bG_rq30v",
        "colab_type": "code",
        "colab": {}
      },
      "source": [
        ""
      ],
      "execution_count": 0,
      "outputs": []
    }
  ]
}